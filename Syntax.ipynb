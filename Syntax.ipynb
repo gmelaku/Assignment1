{
  "nbformat": 4,
  "nbformat_minor": 0,
  "metadata": {
    "colab": {
      "name": "Syntax.ipynb",
      "provenance": [],
      "authorship_tag": "ABX9TyP4AI7No3pXgqua3DDGghPt",
      "include_colab_link": true
    },
    "kernelspec": {
      "name": "python3",
      "display_name": "Python 3"
    }
  },
  "cells": [
    {
      "cell_type": "markdown",
      "metadata": {
        "id": "view-in-github",
        "colab_type": "text"
      },
      "source": [
        "<a href=\"https://colab.research.google.com/github/gmelaku/Assignment1/blob/master/Syntax.ipynb\" target=\"_parent\"><img src=\"https://colab.research.google.com/assets/colab-badge.svg\" alt=\"Open In Colab\"/></a>"
      ]
    },
    {
      "cell_type": "markdown",
      "metadata": {
        "id": "eYBDYKKbDnBr",
        "colab_type": "text"
      },
      "source": [
        "## Important Syntax"
      ]
    },
    {
      "cell_type": "code",
      "metadata": {
        "id": "MBc2w-T6Dmda",
        "colab_type": "code",
        "colab": {}
      },
      "source": [
        "#FrontMatterRDD = zwi.filter(lambda l_i:l_i[0]>=0 and l_i[0]< book1_index ).map(lambda x:x[1])\n",
        "#Book1RDD = zwi.filter(lambda l_i:l_i[0]>=book1_index and l_i[0]< book2_index ).map(lambda x:x[1])\n",
        "#Book2RDD = zwi.filter(lambda l_i:l_i[0]>=book2_index ).map(lambda x:x[1])"
      ],
      "execution_count": 0,
      "outputs": []
    },
    {
      "cell_type": "markdown",
      "metadata": {
        "id": "Gvmgy5AeD47r",
        "colab_type": "text"
      },
      "source": [
        "## To get index "
      ]
    },
    {
      "cell_type": "markdown",
      "metadata": {
        "id": "flxcCVSoEQjQ",
        "colab_type": "text"
      },
      "source": [
        ""
      ]
    },
    {
      "cell_type": "code",
      "metadata": {
        "id": "T8lMqz4qD8os",
        "colab_type": "code",
        "colab": {
          "base_uri": "https://localhost:8080/",
          "height": 232
        },
        "outputId": "8938058d-0598-4742-f980-eadd85395a9d"
      },
      "source": [
        "book1='The BOOK of KING ARTHUR'\n",
        "book2='The BOOK of THREE WORTHIES'\n",
        "book1_index = zwi.filter(lambda l_i:book1 in l_i[1]  ).map(lambda x: x[0]).collect()\n",
        "book2_index = zwi.filter(lambda l_i:book2 in l_i[1]  ).map(lambda x: x[0]).collect()\n",
        "book1_index=book1_index[0]\n",
        "book2_index=book2_index[0]\n",
        "print('Book 1 Index:',book1_index)\n",
        "print('Book 2 Index:',book2_index)"
      ],
      "execution_count": 2,
      "outputs": [
        {
          "output_type": "error",
          "ename": "NameError",
          "evalue": "ignored",
          "traceback": [
            "\u001b[0;31m---------------------------------------------------------------------------\u001b[0m",
            "\u001b[0;31mNameError\u001b[0m                                 Traceback (most recent call last)",
            "\u001b[0;32m<ipython-input-2-fd39c5f06660>\u001b[0m in \u001b[0;36m<module>\u001b[0;34m()\u001b[0m\n\u001b[1;32m      1\u001b[0m \u001b[0mbook1\u001b[0m\u001b[0;34m=\u001b[0m\u001b[0;34m'The BOOK of KING ARTHUR'\u001b[0m\u001b[0;34m\u001b[0m\u001b[0;34m\u001b[0m\u001b[0m\n\u001b[1;32m      2\u001b[0m \u001b[0mbook2\u001b[0m\u001b[0;34m=\u001b[0m\u001b[0;34m'The BOOK of THREE WORTHIES'\u001b[0m\u001b[0;34m\u001b[0m\u001b[0;34m\u001b[0m\u001b[0m\n\u001b[0;32m----> 3\u001b[0;31m \u001b[0mbook1_index\u001b[0m \u001b[0;34m=\u001b[0m \u001b[0mzwi\u001b[0m\u001b[0;34m.\u001b[0m\u001b[0mfilter\u001b[0m\u001b[0;34m(\u001b[0m\u001b[0;32mlambda\u001b[0m \u001b[0ml_i\u001b[0m\u001b[0;34m:\u001b[0m\u001b[0mbook1\u001b[0m \u001b[0;32min\u001b[0m \u001b[0ml_i\u001b[0m\u001b[0;34m[\u001b[0m\u001b[0;36m1\u001b[0m\u001b[0;34m]\u001b[0m  \u001b[0;34m)\u001b[0m\u001b[0;34m.\u001b[0m\u001b[0mmap\u001b[0m\u001b[0;34m(\u001b[0m\u001b[0;32mlambda\u001b[0m \u001b[0mx\u001b[0m\u001b[0;34m:\u001b[0m \u001b[0mx\u001b[0m\u001b[0;34m[\u001b[0m\u001b[0;36m0\u001b[0m\u001b[0;34m]\u001b[0m\u001b[0;34m)\u001b[0m\u001b[0;34m.\u001b[0m\u001b[0mcollect\u001b[0m\u001b[0;34m(\u001b[0m\u001b[0;34m)\u001b[0m\u001b[0;34m\u001b[0m\u001b[0;34m\u001b[0m\u001b[0m\n\u001b[0m\u001b[1;32m      4\u001b[0m \u001b[0mbook2_index\u001b[0m \u001b[0;34m=\u001b[0m \u001b[0mzwi\u001b[0m\u001b[0;34m.\u001b[0m\u001b[0mfilter\u001b[0m\u001b[0;34m(\u001b[0m\u001b[0;32mlambda\u001b[0m \u001b[0ml_i\u001b[0m\u001b[0;34m:\u001b[0m\u001b[0mbook2\u001b[0m \u001b[0;32min\u001b[0m \u001b[0ml_i\u001b[0m\u001b[0;34m[\u001b[0m\u001b[0;36m1\u001b[0m\u001b[0;34m]\u001b[0m  \u001b[0;34m)\u001b[0m\u001b[0;34m.\u001b[0m\u001b[0mmap\u001b[0m\u001b[0;34m(\u001b[0m\u001b[0;32mlambda\u001b[0m \u001b[0mx\u001b[0m\u001b[0;34m:\u001b[0m \u001b[0mx\u001b[0m\u001b[0;34m[\u001b[0m\u001b[0;36m0\u001b[0m\u001b[0;34m]\u001b[0m\u001b[0;34m)\u001b[0m\u001b[0;34m.\u001b[0m\u001b[0mcollect\u001b[0m\u001b[0;34m(\u001b[0m\u001b[0;34m)\u001b[0m\u001b[0;34m\u001b[0m\u001b[0;34m\u001b[0m\u001b[0m\n\u001b[1;32m      5\u001b[0m \u001b[0mbook1_index\u001b[0m\u001b[0;34m=\u001b[0m\u001b[0mbook1_index\u001b[0m\u001b[0;34m[\u001b[0m\u001b[0;36m0\u001b[0m\u001b[0;34m]\u001b[0m\u001b[0;34m\u001b[0m\u001b[0;34m\u001b[0m\u001b[0m\n",
            "\u001b[0;31mNameError\u001b[0m: name 'zwi' is not defined"
          ]
        }
      ]
    },
    {
      "cell_type": "markdown",
      "metadata": {
        "id": "EGFtuIcRESx1",
        "colab_type": "text"
      },
      "source": [
        "Bloom filter"
      ]
    },
    {
      "cell_type": "code",
      "metadata": {
        "id": "CBBRDQOtEMdF",
        "colab_type": "code",
        "colab": {
          "base_uri": "https://localhost:8080/",
          "height": 130
        },
        "outputId": "f1a5128e-6500-4694-9b96-cce2f8b581db"
      },
      "source": [
        "public class BloomFilterDriver {\n",
        "public static void main(String[] args) throws Exception {\n",
        "// Parse command line arguments\n",
        "Path inputFile = new Path(args[0]);\n",
        "int numMembers = Integer.parseInt(args[1]);\n",
        "float falsePosRate = Float.parseFloat(args[2]);\n",
        "Path bfFile = new Path(args[3]);\n",
        "// Calculate our vector size and optimal K value based on approximations\n",
        "int vectorSize = getOptimalBloomFilterSize(numMembers, falsePosRate);\n",
        "int nbHash = getOptimalK(numMembers, vectorSize);\n",
        "// Create new Bloom filter\n",
        "BloomFilter filter = new BloomFilter(vectorSize, nbHash,\n",
        "Hash.MURMUR_HASH);\n",
        "System.out.println(\"Training Bloom filter of size \" + vectorSize\n",
        "+ \" with \" + nbHash + \" hash functions, \" + numMembers\n",
        "+ \" approximate number of records, and \" + falsePosRate\n",
        "+ \" false positive rate\");\n",
        "// Open file for read\n",
        "String line = null;\n",
        "int numElements = 0;\n",
        "FileSystem fs = FileSystem.get(new Configuration());\n",
        "for (FileStatus status : fs.listStatus(inputFile)) {\n",
        "BufferedReader rdr = new BufferedReader(new InputStreamReader(\n",
        "new GZIPInputStream(fs.open(status.getPath()))));\n",
        "System.out.println(\"Reading \" + status.getPath());\n",
        "while ((line = rdr.readLine()) != null) {\n",
        "filter.add(new Key(line.getBytes()));\n",
        "++numElements;\n",
        "}\n",
        "rdr.close();\n",
        "}\n",
        "System.out.println(\"Trained Bloom filter with \" + numElements\n",
        "+ \" entries.\");\n",
        "System.out.println(\"Serializing Bloom filter to HDFS at \" + bfFile);\n",
        "FSDataOutputStream strm = fs.create(bfFile);\n",
        "filter.write(strm);\n",
        "strm.flush();\n",
        "strm.close();\n",
        "System.exit(0);\n",
        "}\n",
        "}"
      ],
      "execution_count": 3,
      "outputs": [
        {
          "output_type": "error",
          "ename": "SyntaxError",
          "evalue": "ignored",
          "traceback": [
            "\u001b[0;36m  File \u001b[0;32m\"<ipython-input-3-cc9299119b43>\"\u001b[0;36m, line \u001b[0;32m1\u001b[0m\n\u001b[0;31m    public class BloomFilterDriver {\u001b[0m\n\u001b[0m               ^\u001b[0m\n\u001b[0;31mSyntaxError\u001b[0m\u001b[0;31m:\u001b[0m invalid syntax\n"
          ]
        }
      ]
    },
    {
      "cell_type": "markdown",
      "metadata": {
        "id": "nTuNHcEOEiqm",
        "colab_type": "text"
      },
      "source": [
        "## Top 15 words"
      ]
    },
    {
      "cell_type": "code",
      "metadata": {
        "id": "8qGLbLJfED77",
        "colab_type": "code",
        "colab": {}
      },
      "source": [
        ""
      ],
      "execution_count": 0,
      "outputs": []
    },
    {
      "cell_type": "code",
      "metadata": {
        "id": "Hfew-GWMEl1S",
        "colab_type": "code",
        "colab": {
          "base_uri": "https://localhost:8080/",
          "height": 164
        },
        "outputId": "41483bb1-3bad-4b7f-b49b-4fce0dcfa4ea"
      },
      "source": [
        "top15WordsAndCounts = wordCount(shakeWordsRDD).takeOrdered(15, key=lambda k_v: -k_v[1])"
      ],
      "execution_count": 4,
      "outputs": [
        {
          "output_type": "error",
          "ename": "NameError",
          "evalue": "ignored",
          "traceback": [
            "\u001b[0;31m---------------------------------------------------------------------------\u001b[0m",
            "\u001b[0;31mNameError\u001b[0m                                 Traceback (most recent call last)",
            "\u001b[0;32m<ipython-input-4-4e7fbe8162f6>\u001b[0m in \u001b[0;36m<module>\u001b[0;34m()\u001b[0m\n\u001b[0;32m----> 1\u001b[0;31m \u001b[0mtop15WordsAndCounts\u001b[0m \u001b[0;34m=\u001b[0m \u001b[0mwordCount\u001b[0m\u001b[0;34m(\u001b[0m\u001b[0mshakeWordsRDD\u001b[0m\u001b[0;34m)\u001b[0m\u001b[0;34m.\u001b[0m\u001b[0mtakeOrdered\u001b[0m\u001b[0;34m(\u001b[0m\u001b[0;36m15\u001b[0m\u001b[0;34m,\u001b[0m \u001b[0mkey\u001b[0m\u001b[0;34m=\u001b[0m\u001b[0;32mlambda\u001b[0m \u001b[0mk_v\u001b[0m\u001b[0;34m:\u001b[0m \u001b[0;34m-\u001b[0m\u001b[0mk_v\u001b[0m\u001b[0;34m[\u001b[0m\u001b[0;36m1\u001b[0m\u001b[0;34m]\u001b[0m\u001b[0;34m)\u001b[0m\u001b[0;34m\u001b[0m\u001b[0;34m\u001b[0m\u001b[0m\n\u001b[0m",
            "\u001b[0;31mNameError\u001b[0m: name 'wordCount' is not defined"
          ]
        }
      ]
    },
    {
      "cell_type": "code",
      "metadata": {
        "id": "krdweL7mEyWU",
        "colab_type": "code",
        "colab": {
          "base_uri": "https://localhost:8080/",
          "height": 34
        },
        "outputId": "b2edd602-20f9-4ccf-d21a-7b257694a45b"
      },
      "source": [
        "lambda w_c: '{0}: {1}'.format(w_c[1],w_c[0])"
      ],
      "execution_count": 5,
      "outputs": [
        {
          "output_type": "execute_result",
          "data": {
            "text/plain": [
              "<function __main__.<lambda>>"
            ]
          },
          "metadata": {
            "tags": []
          },
          "execution_count": 5
        }
      ]
    },
    {
      "cell_type": "markdown",
      "metadata": {
        "id": "n_7MmsOsFB0K",
        "colab_type": "text"
      },
      "source": [
        "## Tuples in lambda"
      ]
    },
    {
      "cell_type": "code",
      "metadata": {
        "id": "YJVb8_CKFGON",
        "colab_type": "code",
        "colab": {}
      },
      "source": [
        ""
      ],
      "execution_count": 0,
      "outputs": []
    },
    {
      "cell_type": "code",
      "metadata": {
        "id": "Pd5JXIOzFHAO",
        "colab_type": "code",
        "colab": {
          "base_uri": "https://localhost:8080/",
          "height": 215
        },
        "outputId": "b96c66a0-7bf3-4759-b3b2-fa19f1737d41"
      },
      "source": [
        "print ('\\n'.join(shakespeareRDD\n",
        "                .zipWithIndex()  # to (line, lineNum)\n",
        "                .map(lambda l_num: '{0}: {1}'.format(l_num[1], l_num[0]))  # to 'lineNum: line'\n",
        "                .take(15)))"
      ],
      "execution_count": 6,
      "outputs": [
        {
          "output_type": "error",
          "ename": "NameError",
          "evalue": "ignored",
          "traceback": [
            "\u001b[0;31m---------------------------------------------------------------------------\u001b[0m",
            "\u001b[0;31mNameError\u001b[0m                                 Traceback (most recent call last)",
            "\u001b[0;32m<ipython-input-6-ed68962ce463>\u001b[0m in \u001b[0;36m<module>\u001b[0;34m()\u001b[0m\n\u001b[0;32m----> 1\u001b[0;31m print ('\\n'.join(shakespeareRDD\n\u001b[0m\u001b[1;32m      2\u001b[0m                 \u001b[0;34m.\u001b[0m\u001b[0mzipWithIndex\u001b[0m\u001b[0;34m(\u001b[0m\u001b[0;34m)\u001b[0m  \u001b[0;31m# to (line, lineNum)\u001b[0m\u001b[0;34m\u001b[0m\u001b[0;34m\u001b[0m\u001b[0m\n\u001b[1;32m      3\u001b[0m                 \u001b[0;34m.\u001b[0m\u001b[0mmap\u001b[0m\u001b[0;34m(\u001b[0m\u001b[0;32mlambda\u001b[0m \u001b[0ml_num\u001b[0m\u001b[0;34m:\u001b[0m \u001b[0;34m'{0}: {1}'\u001b[0m\u001b[0;34m.\u001b[0m\u001b[0mformat\u001b[0m\u001b[0;34m(\u001b[0m\u001b[0ml_num\u001b[0m\u001b[0;34m[\u001b[0m\u001b[0;36m1\u001b[0m\u001b[0;34m]\u001b[0m\u001b[0;34m,\u001b[0m \u001b[0ml_num\u001b[0m\u001b[0;34m[\u001b[0m\u001b[0;36m0\u001b[0m\u001b[0;34m]\u001b[0m\u001b[0;34m)\u001b[0m\u001b[0;34m)\u001b[0m  \u001b[0;31m# to 'lineNum: line'\u001b[0m\u001b[0;34m\u001b[0m\u001b[0;34m\u001b[0m\u001b[0m\n\u001b[1;32m      4\u001b[0m                 .take(15)))\n",
            "\u001b[0;31mNameError\u001b[0m: name 'shakespeareRDD' is not defined"
          ]
        }
      ]
    },
    {
      "cell_type": "markdown",
      "metadata": {
        "id": "s99zQ7IdFTNx",
        "colab_type": "text"
      },
      "source": [
        "# Mounting google drive"
      ]
    },
    {
      "cell_type": "code",
      "metadata": {
        "id": "YJo_ND1lFXk7",
        "colab_type": "code",
        "colab": {}
      },
      "source": [
        "from google.colab import drive \n",
        "drive.mount('/content/gdrive')\n",
        "import os.path\n",
        "baseDir = os.path.join('gdrive')\n",
        "inputPath = os.path.join('My Drive','data','shakespeare.txt')"
      ],
      "execution_count": 0,
      "outputs": []
    },
    {
      "cell_type": "markdown",
      "metadata": {
        "id": "aAt32HG8Fg3c",
        "colab_type": "text"
      },
      "source": [
        "## Changes in python 3 regarding sum of lamda"
      ]
    },
    {
      "cell_type": "code",
      "metadata": {
        "id": "Pjn6inLAFktq",
        "colab_type": "code",
        "colab": {}
      },
      "source": [
        "#This:\n",
        "#lambda (k, v): (k, sum(v))\n",
        "#Becomes this:\n",
        "lambda k_v: (k_v[0], sum(k_v[1]) )"
      ],
      "execution_count": 0,
      "outputs": []
    },
    {
      "cell_type": "markdown",
      "metadata": {
        "id": "npt3Oe7yF1uU",
        "colab_type": "text"
      },
      "source": [
        "# Test functions"
      ]
    },
    {
      "cell_type": "code",
      "metadata": {
        "id": "bFEkwYqbF5_3",
        "colab_type": "code",
        "colab": {}
      },
      "source": [
        "import hashlib\n",
        "class TestFailure(Exception):\n",
        "  pass\n",
        "class PrivateTestFailure(Exception):\n",
        "  pass\n",
        "class Test(object):\n",
        "  passed = 0\n",
        "  numTests = 0\n",
        "  failFast = False\n",
        "  private = False\n",
        "  @classmethod\n",
        "  def setFailFast(cls):\n",
        "    cls.failFast = True\n",
        "  @classmethod\n",
        "  def setPrivateMode(cls):\n",
        "    cls.private = True\n",
        "  @classmethod\n",
        "  def assertTrue(cls, result, msg=\"\"):\n",
        "    cls.numTests += 1\n",
        "    if result == True:\n",
        "      cls.passed += 1\n",
        "      print (\"1 test passed.\")\n",
        "    else:\n",
        "      print (\"1 test failed. \" + msg)\n",
        "      if cls.failFast:\n",
        "        if cls.private:\n",
        "          raise PrivateTestFailure(msg)\n",
        "        else:\n",
        "          raise TestFailure(msg)\n",
        "  @classmethod\n",
        "  def assertEquals(cls, var, val, msg=\"\"):\n",
        "    cls.assertTrue(var == val, msg)\n",
        "  @classmethod\n",
        "  def assertEqualsHashed(cls, var, hashed_val, msg=\"\"):\n",
        "    cls.assertEquals(cls._hash(var), hashed_val, msg)\n",
        "  @classmethod\n",
        "  def printStats(cls):\n",
        "    print (\"{0} / {1} test(s) passed.\".format(cls.passed, cls.numTests))\n",
        "  @classmethod\n",
        "  def _hash(cls, x):\n",
        "    return hashlib.sha1(str(x)).hexdigest()"
      ],
      "execution_count": 0,
      "outputs": []
    }
  ]
}