{
  "nbformat": 4,
  "nbformat_minor": 0,
  "metadata": {
    "colab": {
      "name": "FirstLab(Lab_0).ipynb",
      "provenance": [],
      "toc_visible": true,
      "authorship_tag": "ABX9TyP6NYTX7pif8nvNf71CvpfF",
      "include_colab_link": true
    },
    "kernelspec": {
      "name": "python3",
      "display_name": "Python 3"
    },
    "accelerator": "GPU"
  },
  "cells": [
    {
      "cell_type": "markdown",
      "metadata": {
        "id": "view-in-github",
        "colab_type": "text"
      },
      "source": [
        "<a href=\"https://colab.research.google.com/github/gmelaku/Assignment1/blob/master/FirstLab(Lab_0).ipynb\" target=\"_parent\"><img src=\"https://colab.research.google.com/assets/colab-badge.svg\" alt=\"Open In Colab\"/></a>"
      ]
    },
    {
      "cell_type": "code",
      "metadata": {
        "id": "GbY4N9GRZrP7",
        "colab_type": "code",
        "colab": {}
      },
      "source": [
        ""
      ],
      "execution_count": 0,
      "outputs": []
    },
    {
      "cell_type": "markdown",
      "metadata": {
        "id": "izsPgA_WatwT",
        "colab_type": "text"
      },
      "source": [
        "# **Lab 0- Creating RDD and others**"
      ]
    },
    {
      "cell_type": "code",
      "metadata": {
        "id": "hBr4N5WAbXB9",
        "colab_type": "code",
        "colab": {
          "base_uri": "https://localhost:8080/",
          "height": 34
        },
        "outputId": "68c2ba65-55d3-4767-e809-a1636993e9e4"
      },
      "source": [
        "cd spark-py-notebooks"
      ],
      "execution_count": 3,
      "outputs": [
        {
          "output_type": "stream",
          "text": [
            "/content/spark-py-notebooks\n"
          ],
          "name": "stdout"
        }
      ]
    },
    {
      "cell_type": "code",
      "metadata": {
        "id": "r0DQrYs_brEI",
        "colab_type": "code",
        "colab": {
          "base_uri": "https://localhost:8080/",
          "height": 88
        },
        "outputId": "90a27223-5dc5-43e8-b72a-b806bf73b384"
      },
      "source": [
        "!ls"
      ],
      "execution_count": 4,
      "outputs": [
        {
          "output_type": "stream",
          "text": [
            "LICENSE\t\t     nb2-rdd-basics    nb5-rdd-aggregations  nb8-mllib-logit\n",
            "nb10-sql-dataframes  nb3-rdd-sampling  nb6-rdd-key-value     nb9-mllib-trees\n",
            "nb1-rdd-creation     nb4-rdd-set       nb7-mllib-statistics  README.md\n"
          ],
          "name": "stdout"
        }
      ]
    },
    {
      "cell_type": "markdown",
      "metadata": {
        "id": "ZF_c0e7wfB5l",
        "colab_type": "text"
      },
      "source": [
        "## nb1-rdd-creation"
      ]
    },
    {
      "cell_type": "code",
      "metadata": {
        "id": "hpGWrz28iNU0",
        "colab_type": "code",
        "colab": {}
      },
      "source": [
        "from google.colab import files \n",
        "with open('example.ipynb', 'w') as f:\n",
        "  f.write('some content')\n",
        "  files.download('example.ipynb')"
      ],
      "execution_count": 0,
      "outputs": []
    }
  ]
}