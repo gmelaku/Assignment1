{
  "nbformat": 4,
  "nbformat_minor": 0,
  "metadata": {
    "colab": {
      "name": "lab5.ipynb",
      "provenance": [],
      "collapsed_sections": [],
      "include_colab_link": true
    },
    "kernelspec": {
      "name": "python2",
      "display_name": "Python 2"
    }
  },
  "cells": [
    {
      "cell_type": "markdown",
      "metadata": {
        "id": "view-in-github",
        "colab_type": "text"
      },
      "source": [
        "<a href=\"https://colab.research.google.com/github/gmelaku/Assignment1/blob/master/lab5.ipynb\" target=\"_parent\"><img src=\"https://colab.research.google.com/assets/colab-badge.svg\" alt=\"Open In Colab\"/></a>"
      ]
    },
    {
      "cell_type": "markdown",
      "metadata": {
        "id": "-qefw8CPMExA",
        "colab_type": "text"
      },
      "source": [
        "# Homework-5: Data Cleaning\n",
        "## Adapted from: https://github.com/XD-DENG/Spark-practice\n",
        "## 1: Please upload \"2015-12-12.csv\" (provided at the beggining of the HW-5 instructions) inside a \"sample_data\" directory\n",
        "## 2: Fill out right hand side below each # TODO comments in the code. \n",
        "\n",
        "If you do not have spark-hadoop setup properly on your system, use follwing lines of code to download and setup:\n"
      ]
    },
    {
      "cell_type": "code",
      "metadata": {
        "id": "AZGL-pJUL9hG",
        "colab_type": "code",
        "colab": {}
      },
      "source": [
        "!apt-get install openjdk-8-jdk-headless -qq > /dev/null\n",
        "!wget -q https://www-us.apache.org/dist/spark/spark-2.4.5/spark-2.4.5-bin-hadoop2.7.tgz\n",
        "\n",
        "# !tar -xvf /content/spark-2.4.5-bin-hadoop2.7.tgz\n",
        "!tar -xvf  spark-2.4.5-bin-hadoop2.7.tgz\n",
        "!pip install -q findspark\n",
        "\n",
        "import os\n",
        "os.environ[\"JAVA_HOME\"] = \"/usr/lib/jvm/java-8-openjdk-amd64\"\n",
        "os.environ[\"SPARK_HOME\"] = \"/content/spark-2.4.5-bin-hadoop2.7\"\n",
        "\n",
        "import findspark\n",
        "findspark.init()\n",
        "\n",
        "# Create a blank SparkContext\n",
        "from pyspark import SparkContext\n",
        "sc = SparkContext()"
      ],
      "execution_count": 0,
      "outputs": []
    },
    {
      "cell_type": "markdown",
      "metadata": {
        "id": "2Kq6eOGDmUYb",
        "colab_type": "text"
      },
      "source": [
        "# Upload the csv file into the notebook"
      ]
    },
    {
      "cell_type": "code",
      "metadata": {
        "id": "t9GiP1YDjyBK",
        "colab_type": "code",
        "colab": {
          "resources": {
            "http://localhost:8080/nbextensions/google.colab/files.js": {
              "data": "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",
              "ok": true,
              "headers": [
                [
                  "content-type",
                  "application/javascript"
                ]
              ],
              "status": 200,
              "status_text": ""
            }
          },
          "base_uri": "https://localhost:8080/",
          "height": 71
        },
        "outputId": "c02ec077-b095-479a-ca31-da8a4c022dec"
      },
      "source": [
        "from google.colab import files\n",
        "uploaded = files.upload()"
      ],
      "execution_count": 7,
      "outputs": [
        {
          "output_type": "display_data",
          "data": {
            "text/plain": [
              "<IPython.core.display.HTML object>"
            ],
            "text/html": [
              "\n",
              "     <input type=\"file\" id=\"files-f7284206-a9a2-476b-af99-7112e5039360\" name=\"files[]\" multiple disabled />\n",
              "     <output id=\"result-f7284206-a9a2-476b-af99-7112e5039360\">\n",
              "      Upload widget is only available when the cell has been executed in the\n",
              "      current browser session. Please rerun this cell to enable.\n",
              "      </output>\n",
              "      <script src=\"/nbextensions/google.colab/files.js\"></script> "
            ]
          },
          "metadata": {
            "tags": []
          }
        },
        {
          "output_type": "stream",
          "text": [
            "Saving 2015-12-12.csv to 2015-12-12.csv\n"
          ],
          "name": "stdout"
        }
      ]
    },
    {
      "cell_type": "markdown",
      "metadata": {
        "id": "35mww_ZYWJRW",
        "colab_type": "text"
      },
      "source": [
        "## 1] Upload a csv file into a RDD and print how many entries are there"
      ]
    },
    {
      "cell_type": "code",
      "metadata": {
        "id": "o8iWZ6ggNE0N",
        "colab_type": "code",
        "colab": {
          "base_uri": "https://localhost:8080/",
          "height": 51
        },
        "outputId": "670d3733-4627-4442-96b7-83065290fe3e"
      },
      "source": [
        "#TODO: Load the file\n",
        "raw_content = sc.textFile(\"2015-12-12.csv\")\n",
        "print(type(raw_content))\n",
        "# TODO print total entries in the RDD\n",
        "raw_content.count()"
      ],
      "execution_count": 9,
      "outputs": [
        {
          "output_type": "stream",
          "text": [
            "<class 'pyspark.rdd.RDD'>\n"
          ],
          "name": "stdout"
        },
        {
          "output_type": "execute_result",
          "data": {
            "text/plain": [
              "421970"
            ]
          },
          "metadata": {
            "tags": []
          },
          "execution_count": 9
        }
      ]
    },
    {
      "cell_type": "markdown",
      "metadata": {
        "id": "87EwEaSHWlJG",
        "colab_type": "text"
      },
      "source": [
        "### 2] Use take() and takeSample() on the loaded RDD content in order to check the difference between both calls"
      ]
    },
    {
      "cell_type": "code",
      "metadata": {
        "id": "ulM5cQXwNWFX",
        "colab_type": "code",
        "colab": {
          "base_uri": "https://localhost:8080/",
          "height": 102
        },
        "outputId": "d059e66a-0834-4ae3-bec4-90eb1001375b"
      },
      "source": [
        "# TODO: use take() for getting 5 rows\n",
        "\n",
        "raw_content.take(5)"
      ],
      "execution_count": 10,
      "outputs": [
        {
          "output_type": "execute_result",
          "data": {
            "text/plain": [
              "[u'\"date\",\"time\",\"size\",\"r_version\",\"r_arch\",\"r_os\",\"package\",\"version\",\"country\",\"ip_id\"',\n",
              " u'\"2015-12-12\",\"13:42:10\",257886,\"3.2.2\",\"i386\",\"mingw32\",\"HistData\",\"0.7-6\",\"CZ\",1',\n",
              " u'\"2015-12-12\",\"13:24:37\",1236751,\"3.2.2\",\"x86_64\",\"mingw32\",\"RJSONIO\",\"1.3-0\",\"DE\",2',\n",
              " u'\"2015-12-12\",\"13:42:35\",2077876,\"3.2.2\",\"i386\",\"mingw32\",\"UsingR\",\"2.0-5\",\"CZ\",1',\n",
              " u'\"2015-12-12\",\"13:42:01\",266724,\"3.2.2\",\"i386\",\"mingw32\",\"gridExtra\",\"2.0.0\",\"CZ\",1']"
            ]
          },
          "metadata": {
            "tags": []
          },
          "execution_count": 10
        }
      ]
    },
    {
      "cell_type": "code",
      "metadata": {
        "id": "giMm3AjLOBjT",
        "colab_type": "code",
        "colab": {
          "base_uri": "https://localhost:8080/",
          "height": 102
        },
        "outputId": "988dfe5d-f574-4b3a-f883-253720db36f5"
      },
      "source": [
        "# TODO: use takeSample() for sampling 5 entries\n",
        "raw_content.takeSample(True,5, 3)"
      ],
      "execution_count": 12,
      "outputs": [
        {
          "output_type": "execute_result",
          "data": {
            "text/plain": [
              "[u'\"2015-12-12\",\"10:17:30\",36250,\"3.2.3\",\"i386\",\"mingw32\",\"highr\",\"0.5.1\",\"IT\",3247',\n",
              " u'\"2015-12-12\",\"05:10:40\",21351,\"3.1.3\",\"x86_64\",\"mingw32\",\"lazyeval\",\"0.1.10\",\"US\",5684',\n",
              " u'\"2015-12-12\",\"13:06:32\",494138,\"3.2.3\",\"x86_64\",\"linux-gnu\",\"rjson\",\"0.2.15\",\"KR\",655',\n",
              " u'\"2015-12-12\",\"00:58:48\",216079,NA,NA,NA,\"mvtnorm\",\"1.0-3\",\"US\",231',\n",
              " u'\"2015-12-12\",\"03:49:15\",247550,\"3.1.3\",\"x86_64\",\"mingw32\",\"colorspace\",\"1.2-6\",\"US\",499']"
            ]
          },
          "metadata": {
            "tags": []
          },
          "execution_count": 12
        }
      ]
    },
    {
      "cell_type": "markdown",
      "metadata": {
        "id": "jJEIpRLqW60X",
        "colab_type": "text"
      },
      "source": [
        "## 3] Split each row in the raw content RDD by a comma or \",\" and remove double quotes around the string value from the columns "
      ]
    },
    {
      "cell_type": "code",
      "metadata": {
        "id": "0E-24b5_OeDO",
        "colab_type": "code",
        "colab": {}
      },
      "source": [
        "# Split each row in the raw content RDD by a comma\n",
        "content = raw_content.map(lambda x: x.split(','))\n",
        "content.take(5)"
      ],
      "execution_count": 0,
      "outputs": []
    },
    {
      "cell_type": "code",
      "metadata": {
        "id": "H0nOFCsFqw1t",
        "colab_type": "code",
        "colab": {}
      },
      "source": [
        "# Remove double quotes around string value from the column\n",
        "def clean(x):\n",
        "  return([xx.replace('\"', '') for xx in x])\n",
        "\n",
        "content = content.map(clean)\n",
        "\n",
        "content.take(5)"
      ],
      "execution_count": 0,
      "outputs": []
    },
    {
      "cell_type": "markdown",
      "metadata": {
        "id": "t4wuR7svX-vm",
        "colab_type": "text"
      },
      "source": [
        "## 4] Reduce and Counting: work on the RDD generated in Question-3\n",
        "### 1. Get the RDD for counting downloading records for each package (7th column): use reduceByKey(). Get how many distinct packages are there? Also print the count for 'dbmss' package.\n",
        "### 2. Get the RDD for counting downloading records for each package (7th column): use countByKey(). Print the count for 'dbmss' package.\n",
        "### 3. As countByKey() works only on RDDs of type (K, V), check the effect of the value of V by using different values for V and print the count for 'dbmss' package after each case to check the effect of a value for V."
      ]
    },
    {
      "cell_type": "markdown",
      "metadata": {
        "id": "F1sSK1USvOJO",
        "colab_type": "text"
      },
      "source": [
        "# 4.1"
      ]
    },
    {
      "cell_type": "code",
      "metadata": {
        "id": "pp_5_N5zQWe-",
        "colab_type": "code",
        "colab": {
          "base_uri": "https://localhost:8080/",
          "height": 119
        },
        "outputId": "4301881e-14cf-47ea-a065-eb0f2402fd45"
      },
      "source": [
        "# Get the number of packages of 7th column using reduceByKey()\n",
        "package_count = content.map(lambda x: (x[6], 1)).reduceByKey(lambda a,b: a+b)\n",
        "#print the type\n",
        "print (type(package_count))\n",
        "#the total number of distinct packages\n",
        "package_count.count()\n",
        "#Take the first five values for package_count\n",
        "package_count.take(5)\n"
      ],
      "execution_count": 15,
      "outputs": [
        {
          "output_type": "stream",
          "text": [
            "<class 'pyspark.rdd.PipelinedRDD'>\n"
          ],
          "name": "stdout"
        },
        {
          "output_type": "execute_result",
          "data": {
            "text/plain": [
              "[(u'SIS', 24),\n",
              " (u'StatMethRank', 15),\n",
              " (u'dbmss', 54),\n",
              " (u'searchable', 14),\n",
              " (u'RcmdrPlugin.TextMining', 3)]"
            ]
          },
          "metadata": {
            "tags": []
          },
          "execution_count": 15
        }
      ]
    },
    {
      "cell_type": "markdown",
      "metadata": {
        "id": "32EexDf0vVoa",
        "colab_type": "text"
      },
      "source": [
        "# 4.2"
      ]
    },
    {
      "cell_type": "code",
      "metadata": {
        "id": "_U6Dl-Attp1k",
        "colab_type": "code",
        "colab": {
          "base_uri": "https://localhost:8080/",
          "height": 51
        },
        "outputId": "8dac1dcd-2785-4a3f-a40d-d98c2f8b57fc"
      },
      "source": [
        "#Use countByKey to perform the above function\n",
        "package_count_2 = content.map(lambda x: (x[6], 1)).countByKey()\n",
        "#print the type for package count using countByKey\n",
        "print(type(package_count_2))\n",
        "#Count the number of dbmss\n",
        "package_count_2['dbmss']\n"
      ],
      "execution_count": 16,
      "outputs": [
        {
          "output_type": "stream",
          "text": [
            "<type 'collections.defaultdict'>\n"
          ],
          "name": "stdout"
        },
        {
          "output_type": "execute_result",
          "data": {
            "text/plain": [
              "54"
            ]
          },
          "metadata": {
            "tags": []
          },
          "execution_count": 16
        }
      ]
    },
    {
      "cell_type": "markdown",
      "metadata": {
        "id": "go5ptWSkvbgP",
        "colab_type": "text"
      },
      "source": [
        "# 4.3"
      ]
    },
    {
      "cell_type": "markdown",
      "metadata": {
        "id": "reiPdI3Jv8qr",
        "colab_type": "text"
      },
      "source": [
        "Using v =2"
      ]
    },
    {
      "cell_type": "code",
      "metadata": {
        "id": "b8rEzI5JveRR",
        "colab_type": "code",
        "colab": {
          "base_uri": "https://localhost:8080/",
          "height": 51
        },
        "outputId": "ec6714bc-8208-42f3-dbff-ed7fd8668267"
      },
      "source": [
        "#Use countByKey to perform the above function\n",
        "package_count_3 = content.map(lambda x: (x[6], 2)).countByKey()\n",
        "#print the type for package count using countByKey\n",
        "print(type(package_count_3))\n",
        "#Count the number of dbmss\n",
        "package_count_3['dbmss']"
      ],
      "execution_count": 17,
      "outputs": [
        {
          "output_type": "stream",
          "text": [
            "<type 'collections.defaultdict'>\n"
          ],
          "name": "stdout"
        },
        {
          "output_type": "execute_result",
          "data": {
            "text/plain": [
              "54"
            ]
          },
          "metadata": {
            "tags": []
          },
          "execution_count": 17
        }
      ]
    },
    {
      "cell_type": "markdown",
      "metadata": {
        "id": "-svvBRtuwKmC",
        "colab_type": "text"
      },
      "source": [
        "Using v= 5"
      ]
    },
    {
      "cell_type": "code",
      "metadata": {
        "id": "0l8Qwv4owNvs",
        "colab_type": "code",
        "colab": {
          "base_uri": "https://localhost:8080/",
          "height": 51
        },
        "outputId": "4164d9af-9207-45da-9cf0-f411549ad6d0"
      },
      "source": [
        "#Use countByKey to perform the above function\n",
        "package_count_4 = content.map(lambda x: (x[6], 5)).countByKey()\n",
        "#print the type for package count using countByKey\n",
        "print(type(package_count_4))\n",
        "#Count the number of dbmss\n",
        "package_count_4['dbmss']"
      ],
      "execution_count": 18,
      "outputs": [
        {
          "output_type": "stream",
          "text": [
            "<type 'collections.defaultdict'>\n"
          ],
          "name": "stdout"
        },
        {
          "output_type": "execute_result",
          "data": {
            "text/plain": [
              "54"
            ]
          },
          "metadata": {
            "tags": []
          },
          "execution_count": 18
        }
      ]
    },
    {
      "cell_type": "markdown",
      "metadata": {
        "id": "ChlVUIEJZ1Mi",
        "colab_type": "text"
      },
      "source": [
        "## 5] Sorting: Work on the RDD generated in Question 4-1.\n",
        "### 1. On the package count RDD, use sortByKey() to sort in descending order and print first-5 or 10 entries\n",
        "### 2. On the package count RDD, use sortByKey() to sort in ascending order and print first-5 or 10 entries\n",
        "### 3. On the package count RDD, use sortBy() to sort in descending order and print first-5 or 10 entries\n",
        "### 4. On the package count RDD, use sortBy() to sort in ascending order and print first-5 or 10 entries"
      ]
    },
    {
      "cell_type": "markdown",
      "metadata": {
        "id": "MtW-UEzew9Wt",
        "colab_type": "text"
      },
      "source": [
        "# 5.1"
      ]
    },
    {
      "cell_type": "code",
      "metadata": {
        "id": "R3ALBCELRgYX",
        "colab_type": "code",
        "colab": {
          "base_uri": "https://localhost:8080/",
          "height": 187
        },
        "outputId": "39d2ce15-f607-470e-8e71-3d78a961cb53"
      },
      "source": [
        "# Sort in descending order and print the first 10 entries\n",
        "package_count.map(lambda x: (x[1], x[0])).sortByKey(0).take(10)\n"
      ],
      "execution_count": 22,
      "outputs": [
        {
          "output_type": "execute_result",
          "data": {
            "text/plain": [
              "[(4783, u'Rcpp'),\n",
              " (3913, u'ggplot2'),\n",
              " (3748, u'stringi'),\n",
              " (3449, u'stringr'),\n",
              " (3436, u'plyr'),\n",
              " (3265, u'magrittr'),\n",
              " (3223, u'digest'),\n",
              " (3205, u'reshape2'),\n",
              " (3046, u'RColorBrewer'),\n",
              " (3007, u'scales')]"
            ]
          },
          "metadata": {
            "tags": []
          },
          "execution_count": 22
        }
      ]
    },
    {
      "cell_type": "markdown",
      "metadata": {
        "id": "2iAP_YQTyYkV",
        "colab_type": "text"
      },
      "source": [
        "# 5.2"
      ]
    },
    {
      "cell_type": "code",
      "metadata": {
        "id": "fpNtTC_fybkc",
        "colab_type": "code",
        "colab": {
          "base_uri": "https://localhost:8080/",
          "height": 187
        },
        "outputId": "9c247bed-e982-4969-9c4a-204f5421c92c"
      },
      "source": [
        "# Sort in ascending order and print the first 10 entries\n",
        "package_count.map(lambda x: (x[1], x[0])).sortByKey(1).take(10)"
      ],
      "execution_count": 23,
      "outputs": [
        {
          "output_type": "execute_result",
          "data": {
            "text/plain": [
              "[(1, u'parspatstat'),\n",
              " (1, u'ssh.utils'),\n",
              " (1, u'bscr'),\n",
              " (1, u'CVD'),\n",
              " (1, u'postgwas'),\n",
              " (1, u'mosaicManip'),\n",
              " (1, u'rcqp'),\n",
              " (1, u'rolasized'),\n",
              " (1, u'iScreen'),\n",
              " (1, u'GFMaps')]"
            ]
          },
          "metadata": {
            "tags": []
          },
          "execution_count": 23
        }
      ]
    },
    {
      "cell_type": "markdown",
      "metadata": {
        "id": "cbNaK_XVyle0",
        "colab_type": "text"
      },
      "source": [
        "# 5.3"
      ]
    },
    {
      "cell_type": "code",
      "metadata": {
        "id": "ciZuYwRzyveV",
        "colab_type": "code",
        "colab": {
          "base_uri": "https://localhost:8080/",
          "height": 187
        },
        "outputId": "2462c8ee-70d7-469d-9570-683740a06a7f"
      },
      "source": [
        "# sortBy in descending order\n",
        "package_count.sortBy(lambda x:x[1], ascending = False).take(10)"
      ],
      "execution_count": 24,
      "outputs": [
        {
          "output_type": "execute_result",
          "data": {
            "text/plain": [
              "[(u'Rcpp', 4783),\n",
              " (u'ggplot2', 3913),\n",
              " (u'stringi', 3748),\n",
              " (u'stringr', 3449),\n",
              " (u'plyr', 3436),\n",
              " (u'magrittr', 3265),\n",
              " (u'digest', 3223),\n",
              " (u'reshape2', 3205),\n",
              " (u'RColorBrewer', 3046),\n",
              " (u'scales', 3007)]"
            ]
          },
          "metadata": {
            "tags": []
          },
          "execution_count": 24
        }
      ]
    },
    {
      "cell_type": "markdown",
      "metadata": {
        "id": "XcINjhEszQE0",
        "colab_type": "text"
      },
      "source": [
        "# 5.4"
      ]
    },
    {
      "cell_type": "code",
      "metadata": {
        "id": "octkT2U-zU6q",
        "colab_type": "code",
        "colab": {
          "base_uri": "https://localhost:8080/",
          "height": 187
        },
        "outputId": "36308a6b-b531-4581-c1b8-342bc2c9fe0c"
      },
      "source": [
        "# sortBy in ascending order\n",
        "package_count.sortBy(lambda x:x[1]).take(10)"
      ],
      "execution_count": 25,
      "outputs": [
        {
          "output_type": "execute_result",
          "data": {
            "text/plain": [
              "[(u'parspatstat', 1),\n",
              " (u'ssh.utils', 1),\n",
              " (u'bscr', 1),\n",
              " (u'CVD', 1),\n",
              " (u'postgwas', 1),\n",
              " (u'mosaicManip', 1),\n",
              " (u'rcqp', 1),\n",
              " (u'rolasized', 1),\n",
              " (u'iScreen', 1),\n",
              " (u'GFMaps', 1)]"
            ]
          },
          "metadata": {
            "tags": []
          },
          "execution_count": 25
        }
      ]
    },
    {
      "cell_type": "markdown",
      "metadata": {
        "id": "dEdhTOybbHt6",
        "colab_type": "text"
      },
      "source": [
        "## 6] Filter: Work on the RDD generated in Question 3; Get the date, time and size for the rows with package is 'Rtts' and country is 'US'"
      ]
    },
    {
      "cell_type": "code",
      "metadata": {
        "id": "2I88fb6GSFK1",
        "colab_type": "code",
        "colab": {
          "base_uri": "https://localhost:8080/",
          "height": 357
        },
        "outputId": "44e4ebcd-140f-429f-a47d-9c3715562c0c"
      },
      "source": [
        "content.filter(lambda x: x[6] == 'Rtts' and x[8] == 'US').count()\n",
        "content.filter(lambda x: x[6] == 'Rtts' and x[8] == 'US').take(2)\n"
      ],
      "execution_count": 29,
      "outputs": [
        {
          "output_type": "execute_result",
          "data": {
            "text/plain": [
              "[[u'2015-12-12',\n",
              "  u'04:52:36',\n",
              "  u'23820',\n",
              "  u'3.2.3',\n",
              "  u'i386',\n",
              "  u'mingw32',\n",
              "  u'Rtts',\n",
              "  u'0.3.3',\n",
              "  u'US',\n",
              "  u'1652'],\n",
              " [u'2015-12-12',\n",
              "  u'20:31:45',\n",
              "  u'23820',\n",
              "  u'3.2.3',\n",
              "  u'x86_64',\n",
              "  u'linux-gnu',\n",
              "  u'Rtts',\n",
              "  u'0.3.3',\n",
              "  u'US',\n",
              "  u'4438']]"
            ]
          },
          "metadata": {
            "tags": []
          },
          "execution_count": 29
        }
      ]
    },
    {
      "cell_type": "markdown",
      "metadata": {
        "id": "Rj8k132xbkKb",
        "colab_type": "text"
      },
      "source": [
        "## 7] Set operations: Work on the raw content RDD from Question 1\n",
        "### 1. Union: union raw content RDD (raw_content) with itself and get the total count after the union operation\n",
        "### 2. Intersect: get the distinct value set of raw content RDD using intersect operation\n",
        "### 3. Use the distinct() function to get the count of distinct rows"
      ]
    },
    {
      "cell_type": "markdown",
      "metadata": {
        "id": "MXSTPTFt4S0D",
        "colab_type": "text"
      },
      "source": [
        "# 7.1"
      ]
    },
    {
      "cell_type": "code",
      "metadata": {
        "id": "FKf0333RUcol",
        "colab_type": "code",
        "colab": {
          "base_uri": "https://localhost:8080/",
          "height": 34
        },
        "outputId": "4f57c328-6884-4eaa-d4d7-cd6a0b817a16"
      },
      "source": [
        "# Union\n",
        "raw_content.union(raw_content)\n",
        "#Get count after the union\n",
        "raw_content.union(raw_content).count()\n"
      ],
      "execution_count": 30,
      "outputs": [
        {
          "output_type": "execute_result",
          "data": {
            "text/plain": [
              "843940"
            ]
          },
          "metadata": {
            "tags": []
          },
          "execution_count": 30
        }
      ]
    },
    {
      "cell_type": "markdown",
      "metadata": {
        "id": "3pBhMA7I41WJ",
        "colab_type": "text"
      },
      "source": [
        "# 7.2"
      ]
    },
    {
      "cell_type": "code",
      "metadata": {
        "id": "hsuJSjn144t2",
        "colab_type": "code",
        "colab": {
          "base_uri": "https://localhost:8080/",
          "height": 34
        },
        "outputId": "636931f2-4937-4362-eb19-36a42a31a57f"
      },
      "source": [
        "# Intersection\n",
        "raw_content.intersection(raw_content)\n",
        "# Get the distinct counts after intersection \n",
        "raw_content.intersection(raw_content).count()"
      ],
      "execution_count": 31,
      "outputs": [
        {
          "output_type": "execute_result",
          "data": {
            "text/plain": [
              "421553"
            ]
          },
          "metadata": {
            "tags": []
          },
          "execution_count": 31
        }
      ]
    },
    {
      "cell_type": "markdown",
      "metadata": {
        "id": "G7j4WPhr5Uzm",
        "colab_type": "text"
      },
      "source": [
        "# **7.3**"
      ]
    },
    {
      "cell_type": "code",
      "metadata": {
        "id": "SWFPM8P-5X7c",
        "colab_type": "code",
        "colab": {
          "base_uri": "https://localhost:8080/",
          "height": 34
        },
        "outputId": "a762e761-725f-48d6-938d-3326b6ee7434"
      },
      "source": [
        "# Distinct values\n",
        "raw_content.distinct().count()"
      ],
      "execution_count": 32,
      "outputs": [
        {
          "output_type": "execute_result",
          "data": {
            "text/plain": [
              "421553"
            ]
          },
          "metadata": {
            "tags": []
          },
          "execution_count": 32
        }
      ]
    },
    {
      "cell_type": "markdown",
      "metadata": {
        "id": "ihocV-buckA_",
        "colab_type": "text"
      },
      "source": [
        "## 8] Join: Work on the RDD generated in Question 3\n",
        "### 1. Generate a new RDD in which the values from the 'country' column is a KEY\n",
        "### 2. For a given mapping of the abbreviates of four countries and their full name perform join and left outer join using join() and leftOuterJoin() functions. Also sample 8 entries from each."
      ]
    },
    {
      "cell_type": "markdown",
      "metadata": {
        "id": "o6Jqy7GR6X4C",
        "colab_type": "text"
      },
      "source": [
        "# Set columns containing country x[8] as key"
      ]
    },
    {
      "cell_type": "code",
      "metadata": {
        "id": "u2ZtBe7P6lgs",
        "colab_type": "code",
        "colab": {}
      },
      "source": [
        "content2=content.map(lambda x:(x[8], x))"
      ],
      "execution_count": 0,
      "outputs": []
    },
    {
      "cell_type": "markdown",
      "metadata": {
        "id": "clml6k7465bE",
        "colab_type": "text"
      },
      "source": [
        "Give a mapping table of the four countries and their full names"
      ]
    },
    {
      "cell_type": "code",
      "metadata": {
        "id": "PQosiZ_0Urj8",
        "colab_type": "code",
        "colab": {}
      },
      "source": [
        "mapping=[('DE', 'Germany'), ('US', 'United States'), ('CN', 'China'), ('IN',\"India\")]\n",
        "mapping=sc.parallelize(mapping)\n",
        "\n",
        "# Work on Question 8\n"
      ],
      "execution_count": 0,
      "outputs": []
    },
    {
      "cell_type": "markdown",
      "metadata": {
        "id": "WFR7RvEv5u6a",
        "colab_type": "text"
      },
      "source": [
        "# **8.1**"
      ]
    },
    {
      "cell_type": "code",
      "metadata": {
        "id": "EUA8MsqgVsIj",
        "colab_type": "code",
        "colab": {
          "base_uri": "https://localhost:8080/",
          "height": 1000
        },
        "outputId": "49e703ee-70e1-47a1-f43f-cf2b96a5f7b1"
      },
      "source": [
        "# join and sample 8 entries\n",
        "content2.join(mapping).takeSample(False, 8)"
      ],
      "execution_count": 35,
      "outputs": [
        {
          "output_type": "execute_result",
          "data": {
            "text/plain": [
              "[(u'CN',\n",
              "  ([u'2015-12-12',\n",
              "    u'22:25:27',\n",
              "    u'514',\n",
              "    u'NA',\n",
              "    u'NA',\n",
              "    u'NA',\n",
              "    u'SightabilityModel',\n",
              "    u'1.3',\n",
              "    u'CN',\n",
              "    u'2365'],\n",
              "   'China')),\n",
              " (u'US',\n",
              "  ([u'2015-12-12',\n",
              "    u'15:43:21',\n",
              "    u'35212',\n",
              "    u'3.1.1',\n",
              "    u'x86_64',\n",
              "    u'linux-gnu',\n",
              "    u'reshape2',\n",
              "    u'1.4.1',\n",
              "    u'US',\n",
              "    u'8987'],\n",
              "   'United States')),\n",
              " (u'CN',\n",
              "  ([u'2015-12-12',\n",
              "    u'23:06:50',\n",
              "    u'514',\n",
              "    u'NA',\n",
              "    u'NA',\n",
              "    u'NA',\n",
              "    u'fmri',\n",
              "    u'1.5-1',\n",
              "    u'CN',\n",
              "    u'4692'],\n",
              "   'China')),\n",
              " (u'CN',\n",
              "  ([u'2015-12-12',\n",
              "    u'21:52:59',\n",
              "    u'511',\n",
              "    u'NA',\n",
              "    u'NA',\n",
              "    u'NA',\n",
              "    u'SPA3G',\n",
              "    u'1.0',\n",
              "    u'CN',\n",
              "    u'8154'],\n",
              "   'China')),\n",
              " (u'CN',\n",
              "  ([u'2015-12-12',\n",
              "    u'21:27:33',\n",
              "    u'511',\n",
              "    u'NA',\n",
              "    u'NA',\n",
              "    u'NA',\n",
              "    u'TimeProjection',\n",
              "    u'0.2.0',\n",
              "    u'CN',\n",
              "    u'67'],\n",
              "   'China')),\n",
              " (u'CN',\n",
              "  ([u'2015-12-12',\n",
              "    u'20:12:13',\n",
              "    u'97194',\n",
              "    u'3.2.2',\n",
              "    u'i386',\n",
              "    u'mingw32',\n",
              "    u'rsem',\n",
              "    u'0.4.6',\n",
              "    u'CN',\n",
              "    u'41'],\n",
              "   'China')),\n",
              " (u'CN',\n",
              "  ([u'2015-12-12',\n",
              "    u'23:00:39',\n",
              "    u'516',\n",
              "    u'NA',\n",
              "    u'NA',\n",
              "    u'NA',\n",
              "    u'YplantQMC',\n",
              "    u'0.6-4',\n",
              "    u'CN',\n",
              "    u'4645'],\n",
              "   'China')),\n",
              " (u'CN',\n",
              "  ([u'2015-12-12',\n",
              "    u'21:04:17',\n",
              "    u'160376',\n",
              "    u'3.2.2',\n",
              "    u'x86_64',\n",
              "    u'mingw32',\n",
              "    u'TSTr',\n",
              "    u'1.2',\n",
              "    u'CN',\n",
              "    u'41'],\n",
              "   'China'))]"
            ]
          },
          "metadata": {
            "tags": []
          },
          "execution_count": 35
        }
      ]
    },
    {
      "cell_type": "markdown",
      "metadata": {
        "id": "Xhazdxoj76WI",
        "colab_type": "text"
      },
      "source": [
        "# 8.2"
      ]
    },
    {
      "cell_type": "code",
      "metadata": {
        "id": "dokLjrmM78MY",
        "colab_type": "code",
        "colab": {
          "base_uri": "https://localhost:8080/",
          "height": 1000
        },
        "outputId": "b7e9b891-685d-4275-857e-5a7575cf420d"
      },
      "source": [
        "content2.leftOuterJoin(mapping).takeSample(False, 8)"
      ],
      "execution_count": 36,
      "outputs": [
        {
          "output_type": "execute_result",
          "data": {
            "text/plain": [
              "[(u'CN',\n",
              "  ([u'2015-12-12',\n",
              "    u'23:12:34',\n",
              "    u'512',\n",
              "    u'NA',\n",
              "    u'NA',\n",
              "    u'NA',\n",
              "    u'multispatialCCM',\n",
              "    u'1.0',\n",
              "    u'CN',\n",
              "    u'4536'],\n",
              "   'China')),\n",
              " (u'GB',\n",
              "  ([u'2015-12-12',\n",
              "    u'12:43:50',\n",
              "    u'5487738',\n",
              "    u'3.2.3',\n",
              "    u'i386',\n",
              "    u'mingw32',\n",
              "    u'Morpho',\n",
              "    u'2.3.0',\n",
              "    u'GB',\n",
              "    u'548'],\n",
              "   None)),\n",
              " (u'US',\n",
              "  ([u'2015-12-12',\n",
              "    u'05:09:11',\n",
              "    u'75326',\n",
              "    u'3.2.3',\n",
              "    u'x86_64',\n",
              "    u'linux-gnu',\n",
              "    u'xml2',\n",
              "    u'0.1.2',\n",
              "    u'US',\n",
              "    u'5484'],\n",
              "   'United States')),\n",
              " (u'US',\n",
              "  ([u'2015-12-12',\n",
              "    u'05:10:25',\n",
              "    u'1148897',\n",
              "    u'3.2.3',\n",
              "    u'i386',\n",
              "    u'mingw32',\n",
              "    u'RJSONIO',\n",
              "    u'1.3-0',\n",
              "    u'US',\n",
              "    u'5658'],\n",
              "   'United States')),\n",
              " (u'CN',\n",
              "  ([u'2015-12-12',\n",
              "    u'03:25:52',\n",
              "    u'201469',\n",
              "    u'3.2.2',\n",
              "    u'x86_64',\n",
              "    u'mingw32',\n",
              "    u'MAc',\n",
              "    u'1.1',\n",
              "    u'CN',\n",
              "    u'7506'],\n",
              "   'China')),\n",
              " (u'KR',\n",
              "  ([u'2015-12-12',\n",
              "    u'16:32:51',\n",
              "    u'155907',\n",
              "    u'3.2.3',\n",
              "    u'x86_64',\n",
              "    u'mingw32',\n",
              "    u'pgam',\n",
              "    u'0.4.12',\n",
              "    u'KR',\n",
              "    u'4989'],\n",
              "   None)),\n",
              " (u'JP',\n",
              "  ([u'2015-12-12',\n",
              "    u'05:33:32',\n",
              "    u'3195827',\n",
              "    u'3.2.3',\n",
              "    u'x86_64',\n",
              "    u'mingw32',\n",
              "    u'Rcpp',\n",
              "    u'0.12.2',\n",
              "    u'JP',\n",
              "    u'16130'],\n",
              "   None)),\n",
              " (u'DE',\n",
              "  ([u'2015-12-12',\n",
              "    u'01:30:00',\n",
              "    u'133486',\n",
              "    u'NA',\n",
              "    u'NA',\n",
              "    u'NA',\n",
              "    u'pps',\n",
              "    u'0.94',\n",
              "    u'DE',\n",
              "    u'129'],\n",
              "   'Germany'))]"
            ]
          },
          "metadata": {
            "tags": []
          },
          "execution_count": 36
        }
      ]
    }
  ]
}