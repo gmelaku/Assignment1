{
  "nbformat": 4,
  "nbformat_minor": 0,
  "metadata": {
    "colab": {
      "name": "Lab3(Part B).ipynb",
      "provenance": [],
      "collapsed_sections": [],
      "authorship_tag": "ABX9TyN0QwGbbTYuC6qtD7ScAjWs",
      "include_colab_link": true
    },
    "kernelspec": {
      "name": "python3",
      "display_name": "Python 3"
    }
  },
  "cells": [
    {
      "cell_type": "markdown",
      "metadata": {
        "id": "view-in-github",
        "colab_type": "text"
      },
      "source": [
        "<a href=\"https://colab.research.google.com/github/gmelaku/Assignment1/blob/master/Lab3(Part_B).ipynb\" target=\"_parent\"><img src=\"https://colab.research.google.com/assets/colab-badge.svg\" alt=\"Open In Colab\"/></a>"
      ]
    },
    {
      "cell_type": "markdown",
      "metadata": {
        "id": "IzVPxSkDTdlP",
        "colab_type": "text"
      },
      "source": [
        "![image.png](data:image/png;base64,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) \n",
        "![image.png](data:image/png;base64,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)"
      ]
    },
    {
      "cell_type": "markdown",
      "metadata": {
        "id": "XSL7_z3LUKuE",
        "colab_type": "text"
      },
      "source": [
        "## Cogroup in PySpark based on Example **2**"
      ]
    },
    {
      "cell_type": "markdown",
      "metadata": {
        "id": "NL7v9e3KUf3P",
        "colab_type": "text"
      },
      "source": [
        "Implement the second example (Table A, consisting of 6 triples and Table B, consisting of 5 pairs, respectively) from these cogroup slides from lecture (these are in Lecture 11).\n"
      ]
    },
    {
      "cell_type": "markdown",
      "metadata": {
        "id": "H8EGoq8pUo2O",
        "colab_type": "text"
      },
      "source": [
        "# Import all spark related dependencies"
      ]
    },
    {
      "cell_type": "code",
      "metadata": {
        "id": "_W4bca5XTV22",
        "colab_type": "code",
        "colab": {}
      },
      "source": [
        "!apt-get install openjdk-8-jdk-headless -qq > /dev/null\n",
        "!wget -q https://www-us.apache.org/dist/spark/spark-2.4.5/spark-2.4.5-bin-hadoop2.7.tgz\n",
        "\n",
        "# !tar -xvf /content/spark-2.4.5-bin-hadoop2.7.tgz\n",
        "!tar -xvf  spark-2.4.5-bin-hadoop2.7.tgz\n",
        "!pip install -q findspark\n",
        "\n",
        "import os\n",
        "os.environ[\"JAVA_HOME\"] = \"/usr/lib/jvm/java-8-openjdk-amd64\"\n",
        "os.environ[\"SPARK_HOME\"] = \"/content/spark-2.4.5-bin-hadoop2.7\"\n",
        "\n",
        "import findspark\n",
        "findspark.init()\n",
        "\n",
        "# Create a blank SparkContext\n",
        "from pyspark import SparkContext\n",
        "sc = SparkContext()"
      ],
      "execution_count": 0,
      "outputs": []
    },
    {
      "cell_type": "markdown",
      "metadata": {
        "id": "H4DQj4ADVdBx",
        "colab_type": "text"
      },
      "source": [
        "## Create base RDD from example 2"
      ]
    },
    {
      "cell_type": "code",
      "metadata": {
        "id": "4ugjRNcOVhyq",
        "colab_type": "code",
        "colab": {}
      },
      "source": [
        "A = sc.parallelize([(1, 2, 3), (4, 2, 1),(8,3, 4),(4, 3, 3), (7, 2, 5), (8, 4 ,3)])\n",
        "B= sc.parallelize([(2, 4), (8, 9), (1, 3), (2, 7), (2, 9), (4, 6), (4, 9)])\n"
      ],
      "execution_count": 0,
      "outputs": []
    },
    {
      "cell_type": "markdown",
      "metadata": {
        "id": "4-iRefGFi3VD",
        "colab_type": "text"
      },
      "source": [
        "# **Create cogroup RDD**"
      ]
    },
    {
      "cell_type": "code",
      "metadata": {
        "id": "GGHo35GWi81H",
        "colab_type": "code",
        "colab": {}
      },
      "source": [
        "cogroup_rdd = A.cogroup(B)"
      ],
      "execution_count": 0,
      "outputs": []
    },
    {
      "cell_type": "markdown",
      "metadata": {
        "id": "3x5Sh658jP6d",
        "colab_type": "text"
      },
      "source": [
        "# Collect the final rdd after the grouping "
      ]
    },
    {
      "cell_type": "code",
      "metadata": {
        "id": "4WwsJ594jWZT",
        "colab_type": "code",
        "colab": {
          "base_uri": "https://localhost:8080/",
          "height": 272
        },
        "outputId": "3c1aeab5-04bc-4489-c404-165a4e7ee91e"
      },
      "source": [
        "cogroup_rdd.collect()"
      ],
      "execution_count": 8,
      "outputs": [
        {
          "output_type": "execute_result",
          "data": {
            "text/plain": [
              "[(4,\n",
              "  (<pyspark.resultiterable.ResultIterable at 0x7ffb45e545c0>,\n",
              "   <pyspark.resultiterable.ResultIterable at 0x7ffb45e544a8>)),\n",
              " (8,\n",
              "  (<pyspark.resultiterable.ResultIterable at 0x7ffb45e54518>,\n",
              "   <pyspark.resultiterable.ResultIterable at 0x7ffb45e54f28>)),\n",
              " (1,\n",
              "  (<pyspark.resultiterable.ResultIterable at 0x7ffb45e546d8>,\n",
              "   <pyspark.resultiterable.ResultIterable at 0x7ffb45e541d0>)),\n",
              " (2,\n",
              "  (<pyspark.resultiterable.ResultIterable at 0x7ffb45e54748>,\n",
              "   <pyspark.resultiterable.ResultIterable at 0x7ffb45e54320>)),\n",
              " (7,\n",
              "  (<pyspark.resultiterable.ResultIterable at 0x7ffb45e54198>,\n",
              "   <pyspark.resultiterable.ResultIterable at 0x7ffb45e54d30>))]"
            ]
          },
          "metadata": {
            "tags": []
          },
          "execution_count": 8
        }
      ]
    },
    {
      "cell_type": "code",
      "metadata": {
        "id": "k7V6wy1Djo5C",
        "colab_type": "code",
        "colab": {
          "base_uri": "https://localhost:8080/",
          "height": 102
        },
        "outputId": "38566f79-3f89-46ba-f8e2-ac9fec292bcf"
      },
      "source": [
        "[(A, map(list,B)) for A, B in cogroup_rdd.collect()]"
      ],
      "execution_count": 10,
      "outputs": [
        {
          "output_type": "execute_result",
          "data": {
            "text/plain": [
              "[(4, <map at 0x7ffb457d2630>),\n",
              " (8, <map at 0x7ffb457d2278>),\n",
              " (1, <map at 0x7ffb457d2518>),\n",
              " (2, <map at 0x7ffb457d2208>),\n",
              " (7, <map at 0x7ffb4575f780>)]"
            ]
          },
          "metadata": {
            "tags": []
          },
          "execution_count": 10
        }
      ]
    }
  ]
}