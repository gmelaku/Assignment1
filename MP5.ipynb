{
  "nbformat": 4,
  "nbformat_minor": 0,
  "metadata": {
    "colab": {
      "name": "MP5.ipynb",
      "provenance": [],
      "collapsed_sections": [],
      "include_colab_link": true
    },
    "kernelspec": {
      "name": "python3",
      "display_name": "Python 3"
    }
  },
  "cells": [
    {
      "cell_type": "markdown",
      "metadata": {
        "id": "view-in-github",
        "colab_type": "text"
      },
      "source": [
        "<a href=\"https://colab.research.google.com/github/gmelaku/Assignment1/blob/master/MP5.ipynb\" target=\"_parent\"><img src=\"https://colab.research.google.com/assets/colab-badge.svg\" alt=\"Open In Colab\"/></a>"
      ]
    },
    {
      "cell_type": "markdown",
      "metadata": {
        "id": "-qefw8CPMExA",
        "colab_type": "text"
      },
      "source": [
        "# Homework-5: Data Cleaning\n",
        "## Adapted from: https://github.com/XD-DENG/Spark-practice\n",
        "## 1: Please upload \"2015-12-12.csv\" (provided at the beggining of the HW-5 instructions) inside a \"sample_data\" directory\n",
        "## 2: Fill out right hand side below each # TODO comments in the code. \n",
        "\n",
        "If you do not have spark-hadoop setup properly on your system, use follwing lines of code to download and setup:\n"
      ]
    },
    {
      "cell_type": "code",
      "metadata": {
        "id": "AZGL-pJUL9hG",
        "colab_type": "code",
        "colab": {}
      },
      "source": [
        "!apt-get install openjdk-8-jdk-headless -qq > /dev/null\n",
        "!wget -q https://www-us.apache.org/dist/spark/spark-2.4.5/spark-2.4.5-bin-hadoop2.7.tgz\n",
        "\n",
        "# !tar -xvf /content/spark-2.4.5-bin-hadoop2.7.tgz\n",
        "!tar -xvf  spark-2.4.5-bin-hadoop2.7.tgz\n",
        "!pip install -q findspark\n",
        "\n",
        "import os\n",
        "os.environ[\"JAVA_HOME\"] = \"/usr/lib/jvm/java-8-openjdk-amd64\"\n",
        "os.environ[\"SPARK_HOME\"] = \"/content/spark-2.4.5-bin-hadoop2.7\"\n",
        "\n",
        "import findspark\n",
        "findspark.init()\n",
        "\n",
        "# Create a blank SparkContext\n",
        "from pyspark import SparkContext\n",
        "sc = SparkContext()"
      ],
      "execution_count": 0,
      "outputs": []
    },
    {
      "cell_type": "markdown",
      "metadata": {
        "id": "njApZQ94PQeR",
        "colab_type": "text"
      },
      "source": [
        "# Upload the csv file into the notebook"
      ]
    },
    {
      "cell_type": "code",
      "metadata": {
        "id": "v1CUPJiLMspK",
        "colab_type": "code",
        "colab": {
          "resources": {
            "http://localhost:8080/nbextensions/google.colab/files.js": {
              "data": "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",
              "ok": true,
              "headers": [
                [
                  "content-type",
                  "application/javascript"
                ]
              ],
              "status": 200,
              "status_text": ""
            }
          },
          "base_uri": "https://localhost:8080/",
          "height": 71
        },
        "outputId": "f560a624-875b-4908-f3a6-ef5d8822115d"
      },
      "source": [
        "from google.colab import files\n",
        "uploaded = files.upload()"
      ],
      "execution_count": 2,
      "outputs": [
        {
          "output_type": "display_data",
          "data": {
            "text/html": [
              "\n",
              "     <input type=\"file\" id=\"files-5bb44dc6-5ecd-4eb6-ae11-3ad05466bde4\" name=\"files[]\" multiple disabled />\n",
              "     <output id=\"result-5bb44dc6-5ecd-4eb6-ae11-3ad05466bde4\">\n",
              "      Upload widget is only available when the cell has been executed in the\n",
              "      current browser session. Please rerun this cell to enable.\n",
              "      </output>\n",
              "      <script src=\"/nbextensions/google.colab/files.js\"></script> "
            ],
            "text/plain": [
              "<IPython.core.display.HTML object>"
            ]
          },
          "metadata": {
            "tags": []
          }
        },
        {
          "output_type": "stream",
          "text": [
            "Saving 2015-12-12.csv to 2015-12-12.csv\n"
          ],
          "name": "stdout"
        }
      ]
    },
    {
      "cell_type": "markdown",
      "metadata": {
        "id": "35mww_ZYWJRW",
        "colab_type": "text"
      },
      "source": [
        "## 1] Upload a csv file into a RDD and print how many entries are there"
      ]
    },
    {
      "cell_type": "code",
      "metadata": {
        "id": "o8iWZ6ggNE0N",
        "colab_type": "code",
        "colab": {
          "base_uri": "https://localhost:8080/",
          "height": 51
        },
        "outputId": "832c2814-e8da-409b-8eed-0dfe0cfaf898"
      },
      "source": [
        "#TODO: Load the file\n",
        "raw_content = sc.textFile(\"2015-12-12.csv\")\n",
        "print(type(raw_content))\n",
        "# TODO print total entries in the RDD\n",
        "raw_content.count()\n"
      ],
      "execution_count": 3,
      "outputs": [
        {
          "output_type": "stream",
          "text": [
            "<class 'pyspark.rdd.RDD'>\n"
          ],
          "name": "stdout"
        },
        {
          "output_type": "execute_result",
          "data": {
            "text/plain": [
              "421970"
            ]
          },
          "metadata": {
            "tags": []
          },
          "execution_count": 3
        }
      ]
    },
    {
      "cell_type": "markdown",
      "metadata": {
        "id": "87EwEaSHWlJG",
        "colab_type": "text"
      },
      "source": [
        "### 2] Use take() and takeSample() on the loaded RDD content in order to check the difference between both calls"
      ]
    },
    {
      "cell_type": "code",
      "metadata": {
        "id": "ulM5cQXwNWFX",
        "colab_type": "code",
        "colab": {
          "base_uri": "https://localhost:8080/",
          "height": 102
        },
        "outputId": "a3a6194d-b87d-41b6-b16e-b40c54a3a029"
      },
      "source": [
        "# TODO: use take() for getting 5 rows\n",
        "\n",
        "raw_content.take(5)\n",
        "\n"
      ],
      "execution_count": 4,
      "outputs": [
        {
          "output_type": "execute_result",
          "data": {
            "text/plain": [
              "['\"date\",\"time\",\"size\",\"r_version\",\"r_arch\",\"r_os\",\"package\",\"version\",\"country\",\"ip_id\"',\n",
              " '\"2015-12-12\",\"13:42:10\",257886,\"3.2.2\",\"i386\",\"mingw32\",\"HistData\",\"0.7-6\",\"CZ\",1',\n",
              " '\"2015-12-12\",\"13:24:37\",1236751,\"3.2.2\",\"x86_64\",\"mingw32\",\"RJSONIO\",\"1.3-0\",\"DE\",2',\n",
              " '\"2015-12-12\",\"13:42:35\",2077876,\"3.2.2\",\"i386\",\"mingw32\",\"UsingR\",\"2.0-5\",\"CZ\",1',\n",
              " '\"2015-12-12\",\"13:42:01\",266724,\"3.2.2\",\"i386\",\"mingw32\",\"gridExtra\",\"2.0.0\",\"CZ\",1']"
            ]
          },
          "metadata": {
            "tags": []
          },
          "execution_count": 4
        }
      ]
    },
    {
      "cell_type": "code",
      "metadata": {
        "id": "giMm3AjLOBjT",
        "colab_type": "code",
        "colab": {
          "base_uri": "https://localhost:8080/",
          "height": 102
        },
        "outputId": "07d8cbeb-83c3-4c9c-e93a-f7bf32c81565"
      },
      "source": [
        "# TODO: use takeSample() for sampling 5 entries\n",
        "raw_content.takeSample(True,5, 3)"
      ],
      "execution_count": 5,
      "outputs": [
        {
          "output_type": "execute_result",
          "data": {
            "text/plain": [
              "['\"2015-12-12\",\"05:59:49\",511365,\"3.2.3\",\"i386\",\"mingw32\",\"ks\",\"1.10.0\",\"US\",10364',\n",
              " '\"2015-12-12\",\"05:10:24\",287843,\"3.2.2\",\"x86_64\",\"mingw32\",\"xtable\",\"1.8-0\",\"US\",5665',\n",
              " '\"2015-12-12\",\"13:06:32\",494138,\"3.2.3\",\"x86_64\",\"linux-gnu\",\"rjson\",\"0.2.15\",\"KR\",655',\n",
              " '\"2015-12-12\",\"23:29:36\",1350975,\"3.2.3\",\"x86_64\",\"mingw32\",\"randtoolbox\",\"1.17\",\"US\",6509',\n",
              " '\"2015-12-12\",\"13:13:10\",45187,\"3.2.3\",\"x86_64\",\"linux-gnu\",\"spatial\",\"7.3-11\",\"GB\",548']"
            ]
          },
          "metadata": {
            "tags": []
          },
          "execution_count": 5
        }
      ]
    },
    {
      "cell_type": "markdown",
      "metadata": {
        "id": "jJEIpRLqW60X",
        "colab_type": "text"
      },
      "source": [
        "## 3] Split each row in the raw content RDD by a comma or \",\" and remove double quotes around the string value from the columns "
      ]
    },
    {
      "cell_type": "code",
      "metadata": {
        "id": "0E-24b5_OeDO",
        "colab_type": "code",
        "colab": {
          "base_uri": "https://localhost:8080/",
          "height": 867
        },
        "outputId": "8a84159d-2ee0-4868-b6fa-3475a5cbd826"
      },
      "source": [
        "\n",
        "# Split each row in the raw content RDD by a comma\n",
        "content = raw_content.map(lambda x: x.split(','))\n",
        "content.take(5)\n"
      ],
      "execution_count": 6,
      "outputs": [
        {
          "output_type": "execute_result",
          "data": {
            "text/plain": [
              "[['\"date\"',\n",
              "  '\"time\"',\n",
              "  '\"size\"',\n",
              "  '\"r_version\"',\n",
              "  '\"r_arch\"',\n",
              "  '\"r_os\"',\n",
              "  '\"package\"',\n",
              "  '\"version\"',\n",
              "  '\"country\"',\n",
              "  '\"ip_id\"'],\n",
              " ['\"2015-12-12\"',\n",
              "  '\"13:42:10\"',\n",
              "  '257886',\n",
              "  '\"3.2.2\"',\n",
              "  '\"i386\"',\n",
              "  '\"mingw32\"',\n",
              "  '\"HistData\"',\n",
              "  '\"0.7-6\"',\n",
              "  '\"CZ\"',\n",
              "  '1'],\n",
              " ['\"2015-12-12\"',\n",
              "  '\"13:24:37\"',\n",
              "  '1236751',\n",
              "  '\"3.2.2\"',\n",
              "  '\"x86_64\"',\n",
              "  '\"mingw32\"',\n",
              "  '\"RJSONIO\"',\n",
              "  '\"1.3-0\"',\n",
              "  '\"DE\"',\n",
              "  '2'],\n",
              " ['\"2015-12-12\"',\n",
              "  '\"13:42:35\"',\n",
              "  '2077876',\n",
              "  '\"3.2.2\"',\n",
              "  '\"i386\"',\n",
              "  '\"mingw32\"',\n",
              "  '\"UsingR\"',\n",
              "  '\"2.0-5\"',\n",
              "  '\"CZ\"',\n",
              "  '1'],\n",
              " ['\"2015-12-12\"',\n",
              "  '\"13:42:01\"',\n",
              "  '266724',\n",
              "  '\"3.2.2\"',\n",
              "  '\"i386\"',\n",
              "  '\"mingw32\"',\n",
              "  '\"gridExtra\"',\n",
              "  '\"2.0.0\"',\n",
              "  '\"CZ\"',\n",
              "  '1']]"
            ]
          },
          "metadata": {
            "tags": []
          },
          "execution_count": 6
        }
      ]
    },
    {
      "cell_type": "code",
      "metadata": {
        "id": "wjl4t5EZQgy4",
        "colab_type": "code",
        "colab": {
          "base_uri": "https://localhost:8080/",
          "height": 867
        },
        "outputId": "2185c386-2356-488a-faf9-6dd0a6b2ced8"
      },
      "source": [
        "\n",
        "# Remove double quotes around string value from the column\n",
        "def clean(x):\n",
        "  return([xx.replace('\"', '') for xx in x])\n",
        "\n",
        "content = content.map(clean)\n",
        "\n",
        "content.take(5)"
      ],
      "execution_count": 7,
      "outputs": [
        {
          "output_type": "execute_result",
          "data": {
            "text/plain": [
              "[['date',\n",
              "  'time',\n",
              "  'size',\n",
              "  'r_version',\n",
              "  'r_arch',\n",
              "  'r_os',\n",
              "  'package',\n",
              "  'version',\n",
              "  'country',\n",
              "  'ip_id'],\n",
              " ['2015-12-12',\n",
              "  '13:42:10',\n",
              "  '257886',\n",
              "  '3.2.2',\n",
              "  'i386',\n",
              "  'mingw32',\n",
              "  'HistData',\n",
              "  '0.7-6',\n",
              "  'CZ',\n",
              "  '1'],\n",
              " ['2015-12-12',\n",
              "  '13:24:37',\n",
              "  '1236751',\n",
              "  '3.2.2',\n",
              "  'x86_64',\n",
              "  'mingw32',\n",
              "  'RJSONIO',\n",
              "  '1.3-0',\n",
              "  'DE',\n",
              "  '2'],\n",
              " ['2015-12-12',\n",
              "  '13:42:35',\n",
              "  '2077876',\n",
              "  '3.2.2',\n",
              "  'i386',\n",
              "  'mingw32',\n",
              "  'UsingR',\n",
              "  '2.0-5',\n",
              "  'CZ',\n",
              "  '1'],\n",
              " ['2015-12-12',\n",
              "  '13:42:01',\n",
              "  '266724',\n",
              "  '3.2.2',\n",
              "  'i386',\n",
              "  'mingw32',\n",
              "  'gridExtra',\n",
              "  '2.0.0',\n",
              "  'CZ',\n",
              "  '1']]"
            ]
          },
          "metadata": {
            "tags": []
          },
          "execution_count": 7
        }
      ]
    },
    {
      "cell_type": "markdown",
      "metadata": {
        "id": "t4wuR7svX-vm",
        "colab_type": "text"
      },
      "source": [
        "## 4] Reduce and Counting: work on the RDD generated in Question-3\n",
        "### 1. Get the RDD for counting downloading records for each package (7th column): use reduceByKey(). Get how many distinct packages are there? Also print the count for 'dbmss' package.\n",
        "### 2. Get the RDD for counting downloading records for each package (7th column): use countByKey(). Print the count for 'dbmss' package.\n",
        "### 3. As countByKey() works only on RDDs of type (K, V), check the effect of the value of V by using different values for V and print the count for 'dbmss' package after each case to check the effect of a value for V."
      ]
    },
    {
      "cell_type": "markdown",
      "metadata": {
        "id": "J4EB-aIkQmTf",
        "colab_type": "text"
      },
      "source": [
        "# 4.1"
      ]
    },
    {
      "cell_type": "code",
      "metadata": {
        "id": "pp_5_N5zQWe-",
        "colab_type": "code",
        "colab": {
          "base_uri": "https://localhost:8080/",
          "height": 119
        },
        "outputId": "a49dccbb-f8ea-4b8e-d6ee-67580720ffd4"
      },
      "source": [
        "# Get the number of packages of 7th column using reduceByKey()\n",
        "package_count = content.map(lambda x: (x[6], 1)).reduceByKey(lambda a,b: a+b)\n",
        "#print the type\n",
        "print (type(package_count))\n",
        "#the total number of distinct packages\n",
        "package_count.count()\n",
        "#Take the first five values for package_count\n",
        "package_count.take(5)\n"
      ],
      "execution_count": 8,
      "outputs": [
        {
          "output_type": "stream",
          "text": [
            "<class 'pyspark.rdd.PipelinedRDD'>\n"
          ],
          "name": "stdout"
        },
        {
          "output_type": "execute_result",
          "data": {
            "text/plain": [
              "[('HistData', 159),\n",
              " ('UsingR', 151),\n",
              " ('lme4', 1560),\n",
              " ('testthat', 1178),\n",
              " ('maps', 1586)]"
            ]
          },
          "metadata": {
            "tags": []
          },
          "execution_count": 8
        }
      ]
    },
    {
      "cell_type": "markdown",
      "metadata": {
        "id": "JQ4QWuq9RDJ8",
        "colab_type": "text"
      },
      "source": [
        "# 4.2"
      ]
    },
    {
      "cell_type": "code",
      "metadata": {
        "id": "gr1EX_dXQpXr",
        "colab_type": "code",
        "colab": {
          "base_uri": "https://localhost:8080/",
          "height": 51
        },
        "outputId": "fdb76503-18cc-4af7-ae91-cf171e357b62"
      },
      "source": [
        "#Use countByKey to perform the above function\n",
        "package_count_2 = content.map(lambda x: (x[6], 1)).countByKey()\n",
        "#print the type for package count using countByKey\n",
        "print(type(package_count_2))\n",
        "#Count the number of dbmss\n",
        "package_count_2['dbmss']"
      ],
      "execution_count": 9,
      "outputs": [
        {
          "output_type": "stream",
          "text": [
            "<class 'collections.defaultdict'>\n"
          ],
          "name": "stdout"
        },
        {
          "output_type": "execute_result",
          "data": {
            "text/plain": [
              "54"
            ]
          },
          "metadata": {
            "tags": []
          },
          "execution_count": 9
        }
      ]
    },
    {
      "cell_type": "markdown",
      "metadata": {
        "id": "Zgb4xMjiRH82",
        "colab_type": "text"
      },
      "source": [
        "# 4.3"
      ]
    },
    {
      "cell_type": "markdown",
      "metadata": {
        "id": "BzG1xRfRRL3V",
        "colab_type": "text"
      },
      "source": [
        "Using v =2"
      ]
    },
    {
      "cell_type": "code",
      "metadata": {
        "id": "F_LGInsaQqBJ",
        "colab_type": "code",
        "colab": {
          "base_uri": "https://localhost:8080/",
          "height": 51
        },
        "outputId": "471e4955-3c8b-4deb-e7cb-d92249be4319"
      },
      "source": [
        "#Use countByKey to perform the above function\n",
        "package_count_3 = content.map(lambda x: (x[6], 2)).countByKey()\n",
        "#print the type for package count using countByKey\n",
        "print(type(package_count_3))\n",
        "#Count the number of dbmss\n",
        "package_count_3['dbmss']"
      ],
      "execution_count": 10,
      "outputs": [
        {
          "output_type": "stream",
          "text": [
            "<class 'collections.defaultdict'>\n"
          ],
          "name": "stdout"
        },
        {
          "output_type": "execute_result",
          "data": {
            "text/plain": [
              "54"
            ]
          },
          "metadata": {
            "tags": []
          },
          "execution_count": 10
        }
      ]
    },
    {
      "cell_type": "markdown",
      "metadata": {
        "id": "OSYOKOavRXMo",
        "colab_type": "text"
      },
      "source": [
        "Using v =5"
      ]
    },
    {
      "cell_type": "code",
      "metadata": {
        "id": "zVpVjeBqRZfa",
        "colab_type": "code",
        "colab": {
          "base_uri": "https://localhost:8080/",
          "height": 51
        },
        "outputId": "04becea1-ef2b-40c5-f3fa-ea2eccdc0872"
      },
      "source": [
        "#Use countByKey to perform the above function\n",
        "package_count_4 = content.map(lambda x: (x[6], 5)).countByKey()\n",
        "#print the type for package count using countByKey\n",
        "print(type(package_count_4))\n",
        "#Count the number of dbmss\n",
        "package_count_4['dbmss']"
      ],
      "execution_count": 11,
      "outputs": [
        {
          "output_type": "stream",
          "text": [
            "<class 'collections.defaultdict'>\n"
          ],
          "name": "stdout"
        },
        {
          "output_type": "execute_result",
          "data": {
            "text/plain": [
              "54"
            ]
          },
          "metadata": {
            "tags": []
          },
          "execution_count": 11
        }
      ]
    },
    {
      "cell_type": "markdown",
      "metadata": {
        "id": "ChlVUIEJZ1Mi",
        "colab_type": "text"
      },
      "source": [
        "## 5] Sorting: Work on the RDD generated in Question 4-1.\n",
        "### 1. On the package count RDD, use sortByKey() to sort in descending order and print first-5 or 10 entries\n",
        "### 2. On the package count RDD, use sortByKey() to sort in ascending order and print first-5 or 10 entries\n",
        "### 3. On the package count RDD, use sortBy() to sort in descending order and print first-5 or 10 entries\n",
        "### 4. On the package count RDD, use sortBy() to sort in ascending order and print first-5 or 10 entries"
      ]
    },
    {
      "cell_type": "markdown",
      "metadata": {
        "id": "pt9gTmXvRgH7",
        "colab_type": "text"
      },
      "source": [
        "# 5.1"
      ]
    },
    {
      "cell_type": "code",
      "metadata": {
        "id": "R3ALBCELRgYX",
        "colab_type": "code",
        "colab": {
          "base_uri": "https://localhost:8080/",
          "height": 187
        },
        "outputId": "a6a7ad73-3ffa-443e-acea-f5dc6475b7f7"
      },
      "source": [
        "\n",
        "# Sort in descending order and print the first 10 entries\n",
        "package_count.map(lambda x: (x[1], x[0])).sortByKey(0).take(10)\n"
      ],
      "execution_count": 12,
      "outputs": [
        {
          "output_type": "execute_result",
          "data": {
            "text/plain": [
              "[(4783, 'Rcpp'),\n",
              " (3913, 'ggplot2'),\n",
              " (3748, 'stringi'),\n",
              " (3449, 'stringr'),\n",
              " (3436, 'plyr'),\n",
              " (3265, 'magrittr'),\n",
              " (3223, 'digest'),\n",
              " (3205, 'reshape2'),\n",
              " (3046, 'RColorBrewer'),\n",
              " (3007, 'scales')]"
            ]
          },
          "metadata": {
            "tags": []
          },
          "execution_count": 12
        }
      ]
    },
    {
      "cell_type": "markdown",
      "metadata": {
        "id": "6-0yybMVRkUL",
        "colab_type": "text"
      },
      "source": [
        "# 5.2"
      ]
    },
    {
      "cell_type": "code",
      "metadata": {
        "id": "4Yz9qIuKRndz",
        "colab_type": "code",
        "colab": {
          "base_uri": "https://localhost:8080/",
          "height": 187
        },
        "outputId": "d62fc28e-d7ee-4c1d-ac51-bba0f66ec7e6"
      },
      "source": [
        "\n",
        "# Sort in ascending order and print the first 10 entries\n",
        "package_count.map(lambda x: (x[1], x[0])).sortByKey(1).take(10)"
      ],
      "execution_count": 13,
      "outputs": [
        {
          "output_type": "execute_result",
          "data": {
            "text/plain": [
              "[(1, 'multic'),\n",
              " (1, 'RBerkeley'),\n",
              " (1, 'vimcom'),\n",
              " (1, 'waldwolf'),\n",
              " (1, 'bstats'),\n",
              " (1, 'parspatstat'),\n",
              " (1, 'WaveCGH'),\n",
              " (1, 'mixnet'),\n",
              " (1, 'postgwas'),\n",
              " (1, 'rolasized')]"
            ]
          },
          "metadata": {
            "tags": []
          },
          "execution_count": 13
        }
      ]
    },
    {
      "cell_type": "markdown",
      "metadata": {
        "id": "GIahW89MRoTZ",
        "colab_type": "text"
      },
      "source": [
        "# 5.3"
      ]
    },
    {
      "cell_type": "code",
      "metadata": {
        "id": "AyVu_lEHRsXN",
        "colab_type": "code",
        "colab": {
          "base_uri": "https://localhost:8080/",
          "height": 187
        },
        "outputId": "a8ca786b-82a0-4ef9-e215-45c100e73b4b"
      },
      "source": [
        "\n",
        "# sortBy in descending order\n",
        "package_count.sortBy(lambda x:x[1], ascending = False).take(10)"
      ],
      "execution_count": 14,
      "outputs": [
        {
          "output_type": "execute_result",
          "data": {
            "text/plain": [
              "[('Rcpp', 4783),\n",
              " ('ggplot2', 3913),\n",
              " ('stringi', 3748),\n",
              " ('stringr', 3449),\n",
              " ('plyr', 3436),\n",
              " ('magrittr', 3265),\n",
              " ('digest', 3223),\n",
              " ('reshape2', 3205),\n",
              " ('RColorBrewer', 3046),\n",
              " ('scales', 3007)]"
            ]
          },
          "metadata": {
            "tags": []
          },
          "execution_count": 14
        }
      ]
    },
    {
      "cell_type": "markdown",
      "metadata": {
        "id": "fvjT0oRoRstX",
        "colab_type": "text"
      },
      "source": [
        "# 5.4"
      ]
    },
    {
      "cell_type": "code",
      "metadata": {
        "id": "9b5_Rx_JR7CG",
        "colab_type": "code",
        "colab": {
          "base_uri": "https://localhost:8080/",
          "height": 187
        },
        "outputId": "76fde239-0800-4566-b941-499c8f117e53"
      },
      "source": [
        "# sortBy in ascending order\n",
        "package_count.sortBy(lambda x:x[1]).take(10)"
      ],
      "execution_count": 15,
      "outputs": [
        {
          "output_type": "execute_result",
          "data": {
            "text/plain": [
              "[('multic', 1),\n",
              " ('RBerkeley', 1),\n",
              " ('vimcom', 1),\n",
              " ('waldwolf', 1),\n",
              " ('bstats', 1),\n",
              " ('parspatstat', 1),\n",
              " ('WaveCGH', 1),\n",
              " ('mixnet', 1),\n",
              " ('postgwas', 1),\n",
              " ('rolasized', 1)]"
            ]
          },
          "metadata": {
            "tags": []
          },
          "execution_count": 15
        }
      ]
    },
    {
      "cell_type": "markdown",
      "metadata": {
        "id": "dEdhTOybbHt6",
        "colab_type": "text"
      },
      "source": [
        "## 6] Filter: Work on the RDD generated in Question 3; Get the date, time and size for the rows with package is 'Rtts' and country is 'US'"
      ]
    },
    {
      "cell_type": "code",
      "metadata": {
        "id": "2I88fb6GSFK1",
        "colab_type": "code",
        "colab": {
          "base_uri": "https://localhost:8080/",
          "height": 357
        },
        "outputId": "9f7efa4f-f825-4c28-e17e-5fcca24886c7"
      },
      "source": [
        "# Work on Question 6\n",
        "content.filter(lambda x: x[6] == 'Rtts' and x[8] == 'US').count()\n",
        "content.filter(lambda x: x[6] == 'Rtts' and x[8] == 'US').take(2)\n"
      ],
      "execution_count": 16,
      "outputs": [
        {
          "output_type": "execute_result",
          "data": {
            "text/plain": [
              "[['2015-12-12',\n",
              "  '04:52:36',\n",
              "  '23820',\n",
              "  '3.2.3',\n",
              "  'i386',\n",
              "  'mingw32',\n",
              "  'Rtts',\n",
              "  '0.3.3',\n",
              "  'US',\n",
              "  '1652'],\n",
              " ['2015-12-12',\n",
              "  '20:31:45',\n",
              "  '23820',\n",
              "  '3.2.3',\n",
              "  'x86_64',\n",
              "  'linux-gnu',\n",
              "  'Rtts',\n",
              "  '0.3.3',\n",
              "  'US',\n",
              "  '4438']]"
            ]
          },
          "metadata": {
            "tags": []
          },
          "execution_count": 16
        }
      ]
    },
    {
      "cell_type": "markdown",
      "metadata": {
        "id": "Rj8k132xbkKb",
        "colab_type": "text"
      },
      "source": [
        "## 7] Set operations: Work on the raw content RDD from Question 1\n",
        "### 1. Union: union raw content RDD (raw_content) with itself and get the total count after the union operation\n",
        "### 2. Intersect: get the distinct value set of raw content RDD using intersect operation\n",
        "### 3. Use the distinct() function to get the count of distinct rows"
      ]
    },
    {
      "cell_type": "markdown",
      "metadata": {
        "id": "4BcaP_t3SP7-",
        "colab_type": "text"
      },
      "source": [
        "# 7.1"
      ]
    },
    {
      "cell_type": "code",
      "metadata": {
        "id": "FKf0333RUcol",
        "colab_type": "code",
        "colab": {
          "base_uri": "https://localhost:8080/",
          "height": 34
        },
        "outputId": "d3933a8d-3db1-492f-a95a-75b7094ac247"
      },
      "source": [
        "# Union\n",
        "raw_content.union(raw_content)\n",
        "#Get count after the union\n",
        "raw_content.union(raw_content).count()\n"
      ],
      "execution_count": 17,
      "outputs": [
        {
          "output_type": "execute_result",
          "data": {
            "text/plain": [
              "843940"
            ]
          },
          "metadata": {
            "tags": []
          },
          "execution_count": 17
        }
      ]
    },
    {
      "cell_type": "markdown",
      "metadata": {
        "id": "veHyT8N9SShw",
        "colab_type": "text"
      },
      "source": [
        "# 7.2"
      ]
    },
    {
      "cell_type": "code",
      "metadata": {
        "id": "svBs-FCaSVCD",
        "colab_type": "code",
        "colab": {
          "base_uri": "https://localhost:8080/",
          "height": 34
        },
        "outputId": "721ced7c-9990-4499-8be8-337728560e35"
      },
      "source": [
        "# Intersection\n",
        "raw_content.intersection(raw_content)\n",
        "# Get the distinct counts after intersection \n",
        "raw_content.intersection(raw_content).count()"
      ],
      "execution_count": 18,
      "outputs": [
        {
          "output_type": "execute_result",
          "data": {
            "text/plain": [
              "421553"
            ]
          },
          "metadata": {
            "tags": []
          },
          "execution_count": 18
        }
      ]
    },
    {
      "cell_type": "markdown",
      "metadata": {
        "id": "TJH-T9PfSV0q",
        "colab_type": "text"
      },
      "source": [
        "# 7.3"
      ]
    },
    {
      "cell_type": "code",
      "metadata": {
        "id": "Dxu2py8zSYx0",
        "colab_type": "code",
        "colab": {
          "base_uri": "https://localhost:8080/",
          "height": 34
        },
        "outputId": "d35a8f61-0386-4ce0-9f0c-782cf0328921"
      },
      "source": [
        " # Distinct values\n",
        "raw_content.distinct().count()"
      ],
      "execution_count": 19,
      "outputs": [
        {
          "output_type": "execute_result",
          "data": {
            "text/plain": [
              "421553"
            ]
          },
          "metadata": {
            "tags": []
          },
          "execution_count": 19
        }
      ]
    },
    {
      "cell_type": "markdown",
      "metadata": {
        "id": "ihocV-buckA_",
        "colab_type": "text"
      },
      "source": [
        "## 8] Join: Work on the RDD generated in Question 3\n",
        "### 1. Generate a new RDD in which the values from the 'country' column is a KEY\n",
        "### 2. For a given mapping of the abbreviates of four countries and their full name perform join and left outer join using join() and leftOuterJoin() functions. Also sample 8 entries from each."
      ]
    },
    {
      "cell_type": "markdown",
      "metadata": {
        "id": "tHGYGQg7Sq5_",
        "colab_type": "text"
      },
      "source": [
        "# Set column containing country as KEY"
      ]
    },
    {
      "cell_type": "code",
      "metadata": {
        "id": "IzvAU8igSwJ5",
        "colab_type": "code",
        "colab": {}
      },
      "source": [
        "\n",
        "content2=content.map(lambda x:(x[8], x))"
      ],
      "execution_count": 0,
      "outputs": []
    },
    {
      "cell_type": "markdown",
      "metadata": {
        "id": "Y_T_Uu3-Sz3v",
        "colab_type": "text"
      },
      "source": [
        "Give a mapping table of the four countries and their full names"
      ]
    },
    {
      "cell_type": "code",
      "metadata": {
        "id": "PQosiZ_0Urj8",
        "colab_type": "code",
        "colab": {}
      },
      "source": [
        "mapping=[('DE', 'Germany'), ('US', 'United States'), ('CN', 'China'), ('IN',\"India\")]\n",
        "mapping=sc.parallelize(mapping)\n",
        "\n",
        "# Work on Question 8\n"
      ],
      "execution_count": 0,
      "outputs": []
    },
    {
      "cell_type": "markdown",
      "metadata": {
        "id": "4O9Sn66PS62R",
        "colab_type": "text"
      },
      "source": [
        "# 8.1"
      ]
    },
    {
      "cell_type": "code",
      "metadata": {
        "id": "EUA8MsqgVsIj",
        "colab_type": "code",
        "colab": {
          "base_uri": "https://localhost:8080/",
          "height": 1000
        },
        "outputId": "47e0f645-d0c1-4d1f-a628-8b9adc5110a0"
      },
      "source": [
        "# join and sample 8 entries\n",
        "content2.join(mapping).takeSample(False, 8)"
      ],
      "execution_count": 22,
      "outputs": [
        {
          "output_type": "execute_result",
          "data": {
            "text/plain": [
              "[('IN',\n",
              "  (['2015-12-12',\n",
              "    '05:50:11',\n",
              "    '27211',\n",
              "    '3.2.3',\n",
              "    'x86_64',\n",
              "    'linux-gnu',\n",
              "    'RColorBrewer',\n",
              "    '1.1-2',\n",
              "    'IN',\n",
              "    '10566'],\n",
              "   'India')),\n",
              " ('US',\n",
              "  (['2015-12-12',\n",
              "    '20:22:53',\n",
              "    '1328404',\n",
              "    '3.2.3',\n",
              "    'x86_64',\n",
              "    'linux-gnu',\n",
              "    'PKI',\n",
              "    '0.1-3',\n",
              "    'US',\n",
              "    '7899'],\n",
              "   'United States')),\n",
              " ('US',\n",
              "  (['2015-12-12',\n",
              "    '18:08:23',\n",
              "    '46469',\n",
              "    '3.2.2',\n",
              "    'x86_64',\n",
              "    'mingw32',\n",
              "    'fpp',\n",
              "    '0.5',\n",
              "    'US',\n",
              "    '9843'],\n",
              "   'United States')),\n",
              " ('CN',\n",
              "  (['2015-12-12',\n",
              "    '11:15:23',\n",
              "    '14616',\n",
              "    'NA',\n",
              "    'NA',\n",
              "    'NA',\n",
              "    'xlsxjars',\n",
              "    '0.6.1',\n",
              "    'CN',\n",
              "    '483'],\n",
              "   'China')),\n",
              " ('US',\n",
              "  (['2015-12-12',\n",
              "    '04:51:06',\n",
              "    '4300329',\n",
              "    '3.2.3',\n",
              "    'x86_64',\n",
              "    'darwin13.4.0',\n",
              "    'XML',\n",
              "    '3.98-1.3',\n",
              "    'US',\n",
              "    '2039'],\n",
              "   'United States')),\n",
              " ('US',\n",
              "  (['2015-12-12',\n",
              "    '22:50:48',\n",
              "    '631878',\n",
              "    '3.2.3',\n",
              "    'x86_64',\n",
              "    'linux-gnu',\n",
              "    'multcomp',\n",
              "    '1.4-1',\n",
              "    'US',\n",
              "    '7608'],\n",
              "   'United States')),\n",
              " ('US',\n",
              "  (['2015-12-12',\n",
              "    '17:48:25',\n",
              "    '45416',\n",
              "    '3.1.3',\n",
              "    'x86_64',\n",
              "    'mingw32',\n",
              "    'assertthat',\n",
              "    '0.1',\n",
              "    'US',\n",
              "    '3808'],\n",
              "   'United States')),\n",
              " ('IN',\n",
              "  (['2015-12-12',\n",
              "    '07:21:40',\n",
              "    '185014',\n",
              "    '3.1.2',\n",
              "    'x86_64',\n",
              "    'mingw32',\n",
              "    'doParallel',\n",
              "    '1.0.10',\n",
              "    'IN',\n",
              "    '10309'],\n",
              "   'India'))]"
            ]
          },
          "metadata": {
            "tags": []
          },
          "execution_count": 22
        }
      ]
    },
    {
      "cell_type": "markdown",
      "metadata": {
        "id": "xg1MGQhfTEnJ",
        "colab_type": "text"
      },
      "source": [
        "# 8.2"
      ]
    },
    {
      "cell_type": "code",
      "metadata": {
        "id": "kg5ejxRUTGuT",
        "colab_type": "code",
        "colab": {
          "base_uri": "https://localhost:8080/",
          "height": 1000
        },
        "outputId": "b86c7878-4db8-4e95-cf9e-7341eacd38c6"
      },
      "source": [
        "# Left outer join and take the first 8 sample\n",
        "content2.leftOuterJoin(mapping).takeSample(False, 8)"
      ],
      "execution_count": 23,
      "outputs": [
        {
          "output_type": "execute_result",
          "data": {
            "text/plain": [
              "[('GB',\n",
              "  (['2015-12-12',\n",
              "    '20:05:11',\n",
              "    '3248123',\n",
              "    'NA',\n",
              "    'NA',\n",
              "    'NA',\n",
              "    'psych',\n",
              "    '1.5.8',\n",
              "    'GB',\n",
              "    '13819'],\n",
              "   None)),\n",
              " ('TN',\n",
              "  (['2015-12-12',\n",
              "    '12:36:50',\n",
              "    '164040',\n",
              "    '3.2.3',\n",
              "    'x86_64',\n",
              "    'mingw32',\n",
              "    'Formula',\n",
              "    '1.2-1',\n",
              "    'TN',\n",
              "    '3479'],\n",
              "   None)),\n",
              " ('US',\n",
              "  (['2015-12-12',\n",
              "    '01:34:03',\n",
              "    '711706',\n",
              "    'NA',\n",
              "    'NA',\n",
              "    'NA',\n",
              "    'rJava',\n",
              "    '0.9-7',\n",
              "    'US',\n",
              "    '2940'],\n",
              "   'United States')),\n",
              " ('CN',\n",
              "  (['2015-12-12',\n",
              "    '20:08:54',\n",
              "    '510',\n",
              "    'NA',\n",
              "    'NA',\n",
              "    'NA',\n",
              "    'rrv',\n",
              "    '0.0.2',\n",
              "    'CN',\n",
              "    '6339'],\n",
              "   'China')),\n",
              " ('CN',\n",
              "  (['2015-12-12',\n",
              "    '07:07:02',\n",
              "    '321913',\n",
              "    '3.2.2',\n",
              "    'x86_64',\n",
              "    'mingw32',\n",
              "    'kknn',\n",
              "    '1.3.0',\n",
              "    'CN',\n",
              "    '363'],\n",
              "   'China')),\n",
              " ('GB',\n",
              "  (['2015-12-12',\n",
              "    '23:59:35',\n",
              "    '3195827',\n",
              "    '3.2.3',\n",
              "    'i386',\n",
              "    'mingw32',\n",
              "    'Rcpp',\n",
              "    '0.12.2',\n",
              "    'GB',\n",
              "    '11544'],\n",
              "   None)),\n",
              " ('CN',\n",
              "  (['2015-12-12',\n",
              "    '22:25:05',\n",
              "    '511',\n",
              "    'NA',\n",
              "    'NA',\n",
              "    'NA',\n",
              "    'SOLOMON',\n",
              "    '1.0-1',\n",
              "    'CN',\n",
              "    '2344'],\n",
              "   'China')),\n",
              " ('KR',\n",
              "  (['2015-12-12',\n",
              "    '16:24:13',\n",
              "    '1096673',\n",
              "    '3.2.3',\n",
              "    'x86_64',\n",
              "    'linux-gnu',\n",
              "    'RMark',\n",
              "    '2.1.13',\n",
              "    'KR',\n",
              "    '4986'],\n",
              "   None))]"
            ]
          },
          "metadata": {
            "tags": []
          },
          "execution_count": 23
        }
      ]
    }
  ]
}