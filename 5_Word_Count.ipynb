{
  "nbformat": 4,
  "nbformat_minor": 0,
  "metadata": {
    "anaconda-cloud": {},
    "celltoolbar": "Slideshow",
    "hide_input": false,
    "kernelspec": {
      "display_name": "Python 3",
      "language": "python",
      "name": "python3"
    },
    "language_info": {
      "codemirror_mode": {
        "name": "ipython",
        "version": 3
      },
      "file_extension": ".py",
      "mimetype": "text/x-python",
      "name": "python",
      "nbconvert_exporter": "python",
      "pygments_lexer": "ipython3",
      "version": "3.6.3"
    },
    "toc": {
      "base_numbering": 1,
      "nav_menu": {
        "height": "349px",
        "width": "252px"
      },
      "number_sections": true,
      "sideBar": true,
      "skip_h1_title": false,
      "title_cell": "Table of Contents",
      "title_sidebar": "Contents",
      "toc_cell": false,
      "toc_position": {},
      "toc_section_display": "block",
      "toc_window_display": true
    },
    "varInspector": {
      "cols": {
        "lenName": 16,
        "lenType": 16,
        "lenVar": 40
      },
      "kernels_config": {
        "python": {
          "delete_cmd_postfix": "",
          "delete_cmd_prefix": "del ",
          "library": "var_list.py",
          "varRefreshCmd": "print(var_dic_list())"
        },
        "r": {
          "delete_cmd_postfix": ") ",
          "delete_cmd_prefix": "rm(",
          "library": "var_list.r",
          "varRefreshCmd": "cat(var_dic_list()) "
        }
      },
      "types_to_exclude": [
        "module",
        "function",
        "builtin_function_or_method",
        "instance",
        "_Feature"
      ],
      "window_display": false
    },
    "colab": {
      "name": "5.Word Count.ipynb",
      "provenance": [],
      "include_colab_link": true
    }
  },
  "cells": [
    {
      "cell_type": "markdown",
      "metadata": {
        "id": "view-in-github",
        "colab_type": "text"
      },
      "source": [
        "<a href=\"https://colab.research.google.com/github/gmelaku/Assignment1/blob/master/5_Word_Count.ipynb\" target=\"_parent\"><img src=\"https://colab.research.google.com/assets/colab-badge.svg\" alt=\"Open In Colab\"/></a>"
      ]
    },
    {
      "cell_type": "markdown",
      "metadata": {
        "id": "IhJjrIw9Kago",
        "colab_type": "text"
      },
      "source": [
        "# Word Count\n",
        "\n",
        "Counting the number of occurances of words in a text is a popular first exercise using map-reduce."
      ]
    },
    {
      "cell_type": "markdown",
      "metadata": {
        "id": "Uj39tkXrKagp",
        "colab_type": "text"
      },
      "source": [
        "## The Task\n",
        "**Input:** A text file consisisting of words separated by spaces.  \n",
        "**Output:** A list of words and their counts, sorted from the most to the least common.\n",
        "\n",
        "We will use the book \"Moby Dick\" as our input."
      ]
    },
    {
      "cell_type": "code",
      "metadata": {
        "id": "ApkquOyFKagq",
        "colab_type": "code",
        "colab": {}
      },
      "source": [
        "!apt-get install openjdk-8-jdk-headless -qq > /dev/null\n",
        "!wget -q https://www-us.apache.org/dist/spark/spark-2.4.5/spark-2.4.5-bin-hadoop2.7.tgz\n",
        "\n",
        "# !tar -xvf /content/spark-2.4.5-bin-hadoop2.7.tgz\n",
        "!tar -xvf  spark-2.4.5-bin-hadoop2.7.tgz\n",
        "!pip install -q findspark\n",
        "\n",
        "import os\n",
        "os.environ[\"JAVA_HOME\"] = \"/usr/lib/jvm/java-8-openjdk-amd64\"\n",
        "os.environ[\"SPARK_HOME\"] = \"/content/spark-2.4.5-bin-hadoop2.7\"\n",
        "\n",
        "import findspark\n",
        "findspark.init()\n",
        "\n",
        "# Create a blank SparkContext\n",
        "from pyspark import SparkContext\n",
        "sc = SparkContext()"
      ],
      "execution_count": 0,
      "outputs": []
    },
    {
      "cell_type": "code",
      "metadata": {
        "id": "vkZInzRWKagt",
        "colab_type": "code",
        "colab": {}
      },
      "source": [
        "def pretty_print_plan(rdd):\n",
        "    for x in rdd.toDebugString().decode().split('\\n'):\n",
        "        print(x)"
      ],
      "execution_count": 0,
      "outputs": []
    },
    {
      "cell_type": "markdown",
      "metadata": {
        "id": "y2aKk0wSKagw",
        "colab_type": "text"
      },
      "source": [
        "## Download data file from S3"
      ]
    },
    {
      "cell_type": "code",
      "metadata": {
        "id": "7u934LU3Kagx",
        "colab_type": "code",
        "colab": {
          "base_uri": "https://localhost:8080/",
          "height": 68
        },
        "outputId": "e876f473-bb37-45a4-f0ff-0f668e08779f"
      },
      "source": [
        "%%time\n",
        "\n",
        "##If this cell fails, download the file from https://mas-dse-open.s3.amazonaws.com/Moby-Dick.txt on your browser\n",
        "# and put it in the '../../Data/ directory\n",
        "import requests\n",
        "data_dir='../../Data'\n",
        "filename='Moby-Dick.txt'\n",
        "url = \"https://mas-dse-open.s3.amazonaws.com/\"+filename\n",
        "local_path = data_dir+'/'+filename\n",
        "!mkdir -p {data_dir}\n",
        "# Copy URL content to local_path\n",
        "r = requests.get(url, allow_redirects=True)\n",
        "open(local_path, 'wb').write(r.content)\n",
        "\n",
        "# check that the text file is where we expect it to be\n",
        "!ls -l $local_path"
      ],
      "execution_count": 4,
      "outputs": [
        {
          "output_type": "stream",
          "text": [
            "-rw-r--r-- 1 root root 1257260 Feb 14 00:50 ../../Data/Moby-Dick.txt\n",
            "CPU times: user 96.1 ms, sys: 29.8 ms, total: 126 ms\n",
            "Wall time: 5.82 s\n"
          ],
          "name": "stdout"
        }
      ]
    },
    {
      "cell_type": "markdown",
      "metadata": {
        "id": "ipvGmQOPKag1",
        "colab_type": "text"
      },
      "source": [
        "## Define an RDD that will read the file\n",
        "* Execution of read is **lazy**\n",
        "* File has been opened.\n",
        "* Reading starts when stage is executed."
      ]
    },
    {
      "cell_type": "code",
      "metadata": {
        "id": "nxdOob_vKag2",
        "colab_type": "code",
        "colab": {
          "base_uri": "https://localhost:8080/",
          "height": 51
        },
        "outputId": "46e6e9ee-430f-4d70-d405-fbe6a88908d9"
      },
      "source": [
        "%%time\n",
        "text_file = sc.textFile(data_dir+'/'+filename)\n",
        "type(text_file) "
      ],
      "execution_count": 5,
      "outputs": [
        {
          "output_type": "stream",
          "text": [
            "CPU times: user 69 µs, sys: 2.83 ms, total: 2.9 ms\n",
            "Wall time: 972 ms\n"
          ],
          "name": "stdout"
        }
      ]
    },
    {
      "cell_type": "markdown",
      "metadata": {
        "id": "qaq4WYhnKag5",
        "colab_type": "text"
      },
      "source": [
        "## Steps for counting the words\n",
        "\n",
        "* split line by spaces.\n",
        "* map `word` to `(word,1)`\n",
        "* count the number of occurances of each word."
      ]
    },
    {
      "cell_type": "code",
      "metadata": {
        "id": "MBcFSy5NKag5",
        "colab_type": "code",
        "colab": {
          "base_uri": "https://localhost:8080/",
          "height": 51
        },
        "outputId": "8337fff8-fbfb-41f4-ddc0-42f9aa5bed62"
      },
      "source": [
        "%%time\n",
        "words =     text_file.flatMap(lambda line: line.split(\" \"))\n",
        "not_empty = words.filter(lambda x: x!='') \n",
        "key_values= not_empty.map(lambda word: (word, 1)) \n",
        "counts=     key_values.reduceByKey(lambda a, b: a + b)"
      ],
      "execution_count": 6,
      "outputs": [
        {
          "output_type": "stream",
          "text": [
            "CPU times: user 16.1 ms, sys: 3.41 ms, total: 19.5 ms\n",
            "Wall time: 151 ms\n"
          ],
          "name": "stdout"
        }
      ]
    },
    {
      "cell_type": "markdown",
      "metadata": {
        "id": "Z_QN6iGFKag9",
        "colab_type": "text"
      },
      "source": [
        "### flatMap()\n",
        "Note the line:\n",
        "```python\n",
        "words =     text_file.flatMap(lambda line: line.split(\" \"))\n",
        "```\n",
        "Why are we using `flatMap`, rather than `map`?\n",
        "\n",
        "The reason is that the operation `line.split(\" \")` generates a **list** of strings, so had we used `map` the result would be an RDD of lists of words. Not an RDD of words.\n",
        "\n",
        "The difference between `map` and `flatMap` is that the second expects to get a list as the result from the map and it **concatenates** the lists to form the RDD."
      ]
    },
    {
      "cell_type": "markdown",
      "metadata": {
        "id": "7QLDhz4dKag9",
        "colab_type": "text"
      },
      "source": [
        "## The execution plan\n",
        "In the last cell we defined the execution plan, but we have not started to execute it.\n",
        "\n",
        "* Preparing the plan took ~100ms, which is a non-trivial amount of time, \n",
        "* But much less than the time it will take to execute it.\n",
        "* Lets have a look a the execution plan."
      ]
    },
    {
      "cell_type": "markdown",
      "metadata": {
        "id": "c4064AVNKag-",
        "colab_type": "text"
      },
      "source": [
        "### Understanding the details\n",
        "To see which step in the plan corresponds to which RDD we print out the execution plan for each of the RDDs.  \n",
        "\n",
        "Note that the execution plan for `words`, `not_empty` and `key_values` are all the same."
      ]
    },
    {
      "cell_type": "code",
      "metadata": {
        "id": "Tx9vK2vpKag_",
        "colab_type": "code",
        "colab": {
          "base_uri": "https://localhost:8080/",
          "height": 51
        },
        "outputId": "028deac9-6be4-4c92-c127-3ff39c5b27a7"
      },
      "source": [
        "pretty_print_plan(text_file)"
      ],
      "execution_count": 7,
      "outputs": [
        {
          "output_type": "stream",
          "text": [
            "(2) ../../Data/Moby-Dick.txt MapPartitionsRDD[1] at textFile at NativeMethodAccessorImpl.java:0 []\n",
            " |  ../../Data/Moby-Dick.txt HadoopRDD[0] at textFile at NativeMethodAccessorImpl.java:0 []\n"
          ],
          "name": "stdout"
        }
      ]
    },
    {
      "cell_type": "code",
      "metadata": {
        "id": "Quuxi8hOKahC",
        "colab_type": "code",
        "colab": {
          "base_uri": "https://localhost:8080/",
          "height": 68
        },
        "outputId": "e2d32493-5b26-4706-fe80-cc91508bee6e"
      },
      "source": [
        "pretty_print_plan(words)"
      ],
      "execution_count": 8,
      "outputs": [
        {
          "output_type": "stream",
          "text": [
            "(2) PythonRDD[6] at RDD at PythonRDD.scala:53 []\n",
            " |  ../../Data/Moby-Dick.txt MapPartitionsRDD[1] at textFile at NativeMethodAccessorImpl.java:0 []\n",
            " |  ../../Data/Moby-Dick.txt HadoopRDD[0] at textFile at NativeMethodAccessorImpl.java:0 []\n"
          ],
          "name": "stdout"
        }
      ]
    },
    {
      "cell_type": "code",
      "metadata": {
        "id": "wt-W2fi_KahE",
        "colab_type": "code",
        "colab": {
          "base_uri": "https://localhost:8080/",
          "height": 68
        },
        "outputId": "472a6548-253b-45f9-83c7-d628bf16c751"
      },
      "source": [
        "pretty_print_plan(not_empty)"
      ],
      "execution_count": 9,
      "outputs": [
        {
          "output_type": "stream",
          "text": [
            "(2) PythonRDD[7] at RDD at PythonRDD.scala:53 []\n",
            " |  ../../Data/Moby-Dick.txt MapPartitionsRDD[1] at textFile at NativeMethodAccessorImpl.java:0 []\n",
            " |  ../../Data/Moby-Dick.txt HadoopRDD[0] at textFile at NativeMethodAccessorImpl.java:0 []\n"
          ],
          "name": "stdout"
        }
      ]
    },
    {
      "cell_type": "code",
      "metadata": {
        "id": "QwKEoRtiKahI",
        "colab_type": "code",
        "colab": {
          "base_uri": "https://localhost:8080/",
          "height": 68
        },
        "outputId": "79e6ee82-2603-4e91-878c-0cfa5c16f5f2"
      },
      "source": [
        "pretty_print_plan(key_values)"
      ],
      "execution_count": 10,
      "outputs": [
        {
          "output_type": "stream",
          "text": [
            "(2) PythonRDD[8] at RDD at PythonRDD.scala:53 []\n",
            " |  ../../Data/Moby-Dick.txt MapPartitionsRDD[1] at textFile at NativeMethodAccessorImpl.java:0 []\n",
            " |  ../../Data/Moby-Dick.txt HadoopRDD[0] at textFile at NativeMethodAccessorImpl.java:0 []\n"
          ],
          "name": "stdout"
        }
      ]
    },
    {
      "cell_type": "code",
      "metadata": {
        "scrolled": true,
        "id": "vVnQWZBiKahK",
        "colab_type": "code",
        "colab": {
          "base_uri": "https://localhost:8080/",
          "height": 136
        },
        "outputId": "b082b0ac-7294-4510-9ea0-4985768bc0d1"
      },
      "source": [
        "pretty_print_plan(counts)"
      ],
      "execution_count": 11,
      "outputs": [
        {
          "output_type": "stream",
          "text": [
            "(2) PythonRDD[9] at RDD at PythonRDD.scala:53 []\n",
            " |  MapPartitionsRDD[5] at mapPartitions at PythonRDD.scala:133 []\n",
            " |  ShuffledRDD[4] at partitionBy at NativeMethodAccessorImpl.java:0 []\n",
            " +-(2) PairwiseRDD[3] at reduceByKey at <timed exec>:4 []\n",
            "    |  PythonRDD[2] at reduceByKey at <timed exec>:4 []\n",
            "    |  ../../Data/Moby-Dick.txt MapPartitionsRDD[1] at textFile at NativeMethodAccessorImpl.java:0 []\n",
            "    |  ../../Data/Moby-Dick.txt HadoopRDD[0] at textFile at NativeMethodAccessorImpl.java:0 []\n"
          ],
          "name": "stdout"
        }
      ]
    },
    {
      "cell_type": "markdown",
      "metadata": {
        "id": "4LtfYEBOKahN",
        "colab_type": "text"
      },
      "source": [
        "\n",
        "| Execution plan   | RDD |  Comments |\n",
        "| :---------------------------------------------------------------- | :------------: | :--- |\n",
        "|`(2)_PythonRDD[6] at RDD at PythonRDD.scala:48 []`| **counts** | Final RDD|\n",
        "|`_/__MapPartitionsRDD[5] at mapPartitions at PythonRDD.scala:436 []`| **---\"---** |\n",
        "|`_/__ShuffledRDD[4] at partitionBy at NativeMethodAccessorImpl.java:0 [`| **---\"---** | RDD is partitioned by key |\n",
        "|`_+-(2)_PairwiseRDD[3] at reduceByKey at <timed exec>:4 []`| **---\"---** | Perform mapByKey |\n",
        "|`____/__PythonRDD[2] at reduceByKey at <timed exec>:4 []`| **words, not_empty, key_values** | The result of  partitioning into words|\n",
        "| | |  removing empties, and making into (word,1) pairs|\n",
        "|`____/__../../Data/Moby-Dick.txt MapPartitionsRDD[1] at textFile at Nat`| **text_file** | The partitioned text |\n",
        "|`____/__../../Data/Moby-Dick.txt HadoopRDD[0] at textFile at NativeMeth`| **---\"---** | The text source |"
      ]
    },
    {
      "cell_type": "markdown",
      "metadata": {
        "id": "EXI906xoKahO",
        "colab_type": "text"
      },
      "source": [
        "## Execution\n",
        "Finally we count the number of times each word has occured.\n",
        "Now, finally, the Lazy execution model finally performs some actual work, which takes a significant amount of time."
      ]
    },
    {
      "cell_type": "code",
      "metadata": {
        "id": "DrEp7SjVKahO",
        "colab_type": "code",
        "colab": {
          "base_uri": "https://localhost:8080/",
          "height": 68
        },
        "outputId": "186afcd5-ff07-4381-9507-f57d3af9cbe9"
      },
      "source": [
        "%%time\n",
        "## Run #1\n",
        "Count=counts.count()  # Count = the number of different words\n",
        "Sum=counts.map(lambda x:x[1]).reduce(lambda x,y:x+y) # \n",
        "print('Different words=%5.0f, total words=%6.0f, mean no. occurances per word=%4.2f'%(Count,Sum,float(Sum)/Count))"
      ],
      "execution_count": 12,
      "outputs": [
        {
          "output_type": "stream",
          "text": [
            "Different words=33781, total words=215133, mean no. occurances per word=6.37\n",
            "CPU times: user 17.4 ms, sys: 5.63 ms, total: 23 ms\n",
            "Wall time: 2.79 s\n"
          ],
          "name": "stdout"
        }
      ]
    },
    {
      "cell_type": "markdown",
      "metadata": {
        "id": "vTRoGdqaKahR",
        "colab_type": "text"
      },
      "source": [
        "### Amortization\n",
        "When the same commands are performed repeatedly on the same data, the execution time tends to decrease in later executions.\n",
        "\n",
        "The cells below are identical to the one above, with one exception at `Run #3`\n",
        "\n",
        "Observe that `Run #2` take much less time that `Run #1`. Even though no `cache()` was explicitly requested. The reason is that Spark caches (or materializes) `key_values`, before executing `reduceByKey()` because performng reduceByKey requires a shuffle, and a shuffle requires that the input RDD is materialized. In other words, sometime caching happens even if the programmer did not ask for it."
      ]
    },
    {
      "cell_type": "code",
      "metadata": {
        "scrolled": true,
        "id": "MQuPdQzRKahS",
        "colab_type": "code",
        "colab": {
          "base_uri": "https://localhost:8080/",
          "height": 68
        },
        "outputId": "42b53010-1eb7-4863-b153-fe4c3706a5f4"
      },
      "source": [
        "%%time\n",
        "## Run #2\n",
        "Count=counts.count()\n",
        "Sum=counts.map(lambda x:x[1]).reduce(lambda x,y:x+y)\n",
        "print('Different words=%5.0f, total words=%6.0f, mean no. occurances per word=%4.2f'%(Count,Sum,float(Sum)/Count))"
      ],
      "execution_count": 13,
      "outputs": [
        {
          "output_type": "stream",
          "text": [
            "Different words=33781, total words=215133, mean no. occurances per word=6.37\n",
            "CPU times: user 15.5 ms, sys: 3.08 ms, total: 18.6 ms\n",
            "Wall time: 314 ms\n"
          ],
          "name": "stdout"
        }
      ]
    },
    {
      "cell_type": "markdown",
      "metadata": {
        "id": "LGI3w66xKahV",
        "colab_type": "text"
      },
      "source": [
        "#### Explicit Caching\n",
        "In `Run #3` we explicitly ask for `counts` to be cached. This will reduce the execution time in the following run by a little bit, but not by much."
      ]
    },
    {
      "cell_type": "code",
      "metadata": {
        "id": "iC5Vqq3YKahV",
        "colab_type": "code",
        "colab": {
          "base_uri": "https://localhost:8080/",
          "height": 68
        },
        "outputId": "91f8ccc3-f86f-4206-9039-755bb6e43f8d"
      },
      "source": [
        "%%time\n",
        "## Run #3, cache\n",
        "Count=counts.cache().count()\n",
        "Sum=counts.map(lambda x:x[1]).reduce(lambda x,y:x+y)\n",
        "print('Different words=%5.0f, total words=%6.0f, mean no. occurances per word=%4.2f'%(Count,Sum,float(Sum)/Count))"
      ],
      "execution_count": 14,
      "outputs": [
        {
          "output_type": "stream",
          "text": [
            "Different words=33781, total words=215133, mean no. occurances per word=6.37\n",
            "CPU times: user 14.8 ms, sys: 1.32 ms, total: 16.1 ms\n",
            "Wall time: 400 ms\n"
          ],
          "name": "stdout"
        }
      ]
    },
    {
      "cell_type": "code",
      "metadata": {
        "id": "c14d_90yKahY",
        "colab_type": "code",
        "colab": {},
        "outputId": "a5ef8c41-97f8-4dd6-c642-6dcd0952b1f4"
      },
      "source": [
        "%%time\n",
        "#Run #4\n",
        "Count=counts.count()\n",
        "Sum=counts.map(lambda x:x[1]).reduce(lambda x,y:x+y)\n",
        "print('Different words=%5.0f, total words=%6.0f, mean no. occurances per word=%4.2f'%(Count,Sum,float(Sum)/Count))"
      ],
      "execution_count": 0,
      "outputs": [
        {
          "output_type": "stream",
          "text": [
            "Different words=33781, total words=215133, mean no. occurances per word=6.37\n",
            "CPU times: user 20 ms, sys: 10 ms, total: 30 ms\n",
            "Wall time: 432 ms\n"
          ],
          "name": "stdout"
        }
      ]
    },
    {
      "cell_type": "code",
      "metadata": {
        "id": "0tp0YNS6Kaha",
        "colab_type": "code",
        "colab": {},
        "outputId": "e530bcdf-77da-46df-b09b-6e16b15b054f"
      },
      "source": [
        "%%time\n",
        "#Run #5\n",
        "Count=counts.count()\n",
        "Sum=counts.map(lambda x:x[1]).reduce(lambda x,y:x+y)\n",
        "print('Different words=%5.0f, total words=%6.0f, mean no. occurances per word=%4.2f'%(Count,Sum,float(Sum)/Count))"
      ],
      "execution_count": 0,
      "outputs": [
        {
          "output_type": "stream",
          "text": [
            "Different words=33781, total words=215133, mean no. occurances per word=6.37\n",
            "CPU times: user 20 ms, sys: 0 ns, total: 20 ms\n",
            "Wall time: 307 ms\n"
          ],
          "name": "stdout"
        }
      ]
    },
    {
      "cell_type": "markdown",
      "metadata": {
        "id": "60cQtOf4Kahc",
        "colab_type": "text"
      },
      "source": [
        "## Summary\n",
        "This was our first real pyspark program, hurray!"
      ]
    },
    {
      "cell_type": "markdown",
      "metadata": {
        "id": "i3nijT3GKahd",
        "colab_type": "text"
      },
      "source": [
        "#### Some things you learned:"
      ]
    },
    {
      "cell_type": "markdown",
      "metadata": {
        "id": "1ZLxg3A9Kahd",
        "colab_type": "text"
      },
      "source": [
        "1) An RDD is a distributed immutable array.  \n",
        "It is the core data structure of Spark is an RDD. "
      ]
    },
    {
      "cell_type": "markdown",
      "metadata": {
        "id": "eXHk7XqKKahe",
        "colab_type": "text"
      },
      "source": [
        "2)  You cannot operate on an RDD directly. Only through **Transformations** and **Actions**."
      ]
    },
    {
      "cell_type": "markdown",
      "metadata": {
        "id": "XMSQPyfAKahf",
        "colab_type": "text"
      },
      "source": [
        "3) **Transformations** transform an RDD into another RDD."
      ]
    },
    {
      "cell_type": "markdown",
      "metadata": {
        "id": "Or27shbIKahg",
        "colab_type": "text"
      },
      "source": [
        "4) **Actions** output their results on the head node."
      ]
    },
    {
      "cell_type": "markdown",
      "metadata": {
        "id": "0C9Ky7SKKahh",
        "colab_type": "text"
      },
      "source": [
        "5) After the action is done, you are using just the head node, not the workers."
      ]
    },
    {
      "cell_type": "markdown",
      "metadata": {
        "id": "0TJRYK54Kahi",
        "colab_type": "text"
      },
      "source": [
        "#### Lazy Execution"
      ]
    },
    {
      "cell_type": "markdown",
      "metadata": {
        "id": "Nx5xhobiKahj",
        "colab_type": "text"
      },
      "source": [
        "1) RDD operations are added to an **Execution Plan**."
      ]
    },
    {
      "cell_type": "markdown",
      "metadata": {
        "id": "wLkXJAKSKahk",
        "colab_type": "text"
      },
      "source": [
        "2) The plan is executed when a result is needed."
      ]
    },
    {
      "cell_type": "markdown",
      "metadata": {
        "id": "WwK6ZG7kKahl",
        "colab_type": "text"
      },
      "source": [
        "3) Explicit and implicit caching cause internediate results to be saved."
      ]
    },
    {
      "cell_type": "markdown",
      "metadata": {
        "id": "psMVWOQpKahl",
        "colab_type": "text"
      },
      "source": [
        "**Next:** Finding the most common words."
      ]
    },
    {
      "cell_type": "markdown",
      "metadata": {
        "id": "N0pLZV7AKahm",
        "colab_type": "text"
      },
      "source": [
        "# Finding the most common words\n",
        "* `counts`: RDD with 33301 pairs of the form `(word,count)`. \n",
        "* Find the 5 most frequent words. \n",
        "* **Method1:** `collect` and sort on head node.\n",
        "* **Method2:** Pure Spark, `collect` only at the end."
      ]
    },
    {
      "cell_type": "markdown",
      "metadata": {
        "id": "_g_TsXxCKahm",
        "colab_type": "text"
      },
      "source": [
        "## **Method1:** `collect` and sort on head node \n",
        "### Collect the RDD into the driver node\n",
        "* Collect can take significant time."
      ]
    },
    {
      "cell_type": "code",
      "metadata": {
        "id": "k3JR4W-qKahn",
        "colab_type": "code",
        "colab": {
          "base_uri": "https://localhost:8080/",
          "height": 51
        },
        "outputId": "307170be-bb86-4acf-dd7b-6c10e8ae1e0b"
      },
      "source": [
        "%%time\n",
        "C=counts.collect()"
      ],
      "execution_count": 15,
      "outputs": [
        {
          "output_type": "stream",
          "text": [
            "CPU times: user 12.7 ms, sys: 9.98 ms, total: 22.7 ms\n",
            "Wall time: 103 ms\n"
          ],
          "name": "stdout"
        }
      ]
    },
    {
      "cell_type": "markdown",
      "metadata": {
        "id": "gAHbaflQKahp",
        "colab_type": "text"
      },
      "source": [
        "### Sort \n",
        "* RDD collected into list in driver node.\n",
        "* No longer using spark parallelism.\n",
        "* Sort in python\n",
        "* will not scale to very large documents."
      ]
    },
    {
      "cell_type": "code",
      "metadata": {
        "code_folding": [],
        "id": "vrgO4HwEKahq",
        "colab_type": "code",
        "colab": {
          "base_uri": "https://localhost:8080/",
          "height": 153
        },
        "outputId": "aa457bbe-5ad4-44b7-c6b2-bb481c73b38d"
      },
      "source": [
        "%%time\n",
        "C.sort(key=lambda x:x[1])\n",
        "print('most common words\\n'+'\\n'.join(['%s:\\t%d'%c for c in reversed(C[-5:])]))"
      ],
      "execution_count": 16,
      "outputs": [
        {
          "output_type": "stream",
          "text": [
            "most common words\n",
            "the:\t13766\n",
            "of:\t6587\n",
            "and:\t5951\n",
            "a:\t4533\n",
            "to:\t4510\n",
            "CPU times: user 9.29 ms, sys: 48 µs, total: 9.33 ms\n",
            "Wall time: 11.2 ms\n"
          ],
          "name": "stdout"
        }
      ]
    },
    {
      "cell_type": "markdown",
      "metadata": {
        "id": "pPt8n8YoKahs",
        "colab_type": "text"
      },
      "source": [
        "### Compute the mean number of occurances per word."
      ]
    },
    {
      "cell_type": "code",
      "metadata": {
        "id": "KuyUU9wSKaht",
        "colab_type": "code",
        "colab": {},
        "outputId": "f6c8afc4-5f8e-422d-8107-2861dbef7fac"
      },
      "source": [
        "Count2=len(C)\n",
        "Sum2=sum([i for w,i in C])\n",
        "print('count2=%f, sum2=%f, mean2=%f'%(Count2,Sum2,float(Sum2)/Count2))\n"
      ],
      "execution_count": 0,
      "outputs": [
        {
          "output_type": "stream",
          "text": [
            "count2=33781.000000, sum2=215133.000000, mean2=6.368462\n"
          ],
          "name": "stdout"
        }
      ]
    },
    {
      "cell_type": "markdown",
      "metadata": {
        "id": "ESMB4B7-Kahv",
        "colab_type": "text"
      },
      "source": [
        "## **Method2:** Pure Spark, `collect` only at the end.\n",
        "* Collect into the head node only the more frquent words.\n",
        "* Requires multiple **stages**"
      ]
    },
    {
      "cell_type": "markdown",
      "metadata": {
        "id": "mzDKDXQeKahv",
        "colab_type": "text"
      },
      "source": [
        "### Step 1 split, clean and map to `(word,1)`"
      ]
    },
    {
      "cell_type": "code",
      "metadata": {
        "id": "wPPARB8mKahw",
        "colab_type": "code",
        "colab": {},
        "outputId": "b28ced29-262a-4847-bdad-9667d7b0c157"
      },
      "source": [
        "%%time\n",
        "word_pairs=text_file.flatMap(lambda x: x.split(' '))\\\n",
        "    .filter(lambda x: x!='')\\\n",
        "    .map(lambda word: (word,1))"
      ],
      "execution_count": 0,
      "outputs": [
        {
          "output_type": "stream",
          "text": [
            "CPU times: user 0 ns, sys: 0 ns, total: 0 ns\n",
            "Wall time: 66.3 µs\n"
          ],
          "name": "stdout"
        }
      ]
    },
    {
      "cell_type": "markdown",
      "metadata": {
        "id": "VTCYPTELKahz",
        "colab_type": "text"
      },
      "source": [
        "### **Step 2** Count occurances of each word."
      ]
    },
    {
      "cell_type": "code",
      "metadata": {
        "id": "kThbydmWKahz",
        "colab_type": "code",
        "colab": {},
        "outputId": "3ce16241-130b-45ae-d77f-74fb92867f4a"
      },
      "source": [
        "%%time\n",
        "counts=word_pairs.reduceByKey(lambda x,y:x+y)"
      ],
      "execution_count": 0,
      "outputs": [
        {
          "output_type": "stream",
          "text": [
            "CPU times: user 10 ms, sys: 0 ns, total: 10 ms\n",
            "Wall time: 37.5 ms\n"
          ],
          "name": "stdout"
        }
      ]
    },
    {
      "cell_type": "markdown",
      "metadata": {
        "id": "BTTGzUapKah1",
        "colab_type": "text"
      },
      "source": [
        "### **Step 3** Reverse `(word,count)` to `(count,word)` and sort by key"
      ]
    },
    {
      "cell_type": "code",
      "metadata": {
        "id": "eY8vkF-DKah2",
        "colab_type": "code",
        "colab": {},
        "outputId": "491f201f-a3f3-43d8-f2dc-16dba8272c91"
      },
      "source": [
        "%%time\n",
        "reverse_counts=counts.map(lambda x:(x[1],x[0]))   # reverse order of word and count\n",
        "sorted_counts=reverse_counts.sortByKey(ascending=False)"
      ],
      "execution_count": 0,
      "outputs": [
        {
          "output_type": "stream",
          "text": [
            "CPU times: user 30 ms, sys: 10 ms, total: 40 ms\n",
            "Wall time: 1.49 s\n"
          ],
          "name": "stdout"
        }
      ]
    },
    {
      "cell_type": "markdown",
      "metadata": {
        "id": "UB8WkI3QKah4",
        "colab_type": "text"
      },
      "source": [
        "### Full execution plan\n",
        "\n",
        "We now have a complete plan to compute the most common words in the text. Nothing has been executed yet! Not even a single byte has been read from the file `Moby-Dick.txt` !\n",
        "\n",
        "For more on execution plans and lineage see [jace Klaskowski's blog](https://jaceklaskowski.gitbooks.io/mastering-apache-spark/content/spark-rdd-lineage.html#toDebugString)"
      ]
    },
    {
      "cell_type": "code",
      "metadata": {
        "scrolled": false,
        "id": "uuIlKdsBKah6",
        "colab_type": "code",
        "colab": {},
        "outputId": "7335a7c0-05ca-485c-890e-161fb60a21a2"
      },
      "source": [
        "print('word_pairs:')\n",
        "pretty_print_plan(word_pairs)\n",
        "print('\\ncounts:')\n",
        "pretty_print_plan(counts)\n",
        "print('\\nreverse_counts:')\n",
        "pretty_print_plan(reverse_counts)\n",
        "print('\\nsorted_counts:')\n",
        "pretty_print_plan(sorted_counts)"
      ],
      "execution_count": 0,
      "outputs": [
        {
          "output_type": "stream",
          "text": [
            "word_pairs:\n",
            "(2) PythonRDD[18] at RDD at PythonRDD.scala:48 []\n",
            " |  ../../Data/Moby-Dick.txt MapPartitionsRDD[1] at textFile at NativeMethodAccessorImpl.java:0 []\n",
            " |  ../../Data/Moby-Dick.txt HadoopRDD[0] at textFile at NativeMethodAccessorImpl.java:0 []\n",
            "\n",
            "counts:\n",
            "(2) PythonRDD[23] at RDD at PythonRDD.scala:48 []\n",
            " |  MapPartitionsRDD[22] at mapPartitions at PythonRDD.scala:122 []\n",
            " |  ShuffledRDD[21] at partitionBy at NativeMethodAccessorImpl.java:0 []\n",
            " +-(2) PairwiseRDD[20] at reduceByKey at <timed exec>:1 []\n",
            "    |  PythonRDD[19] at reduceByKey at <timed exec>:1 []\n",
            "    |  ../../Data/Moby-Dick.txt MapPartitionsRDD[1] at textFile at NativeMethodAccessorImpl.java:0 []\n",
            "    |  ../../Data/Moby-Dick.txt HadoopRDD[0] at textFile at NativeMethodAccessorImpl.java:0 []\n",
            "\n",
            "reverse_counts:\n",
            "(2) PythonRDD[30] at RDD at PythonRDD.scala:48 []\n",
            " |  MapPartitionsRDD[22] at mapPartitions at PythonRDD.scala:122 []\n",
            " |  ShuffledRDD[21] at partitionBy at NativeMethodAccessorImpl.java:0 []\n",
            " +-(2) PairwiseRDD[20] at reduceByKey at <timed exec>:1 []\n",
            "    |  PythonRDD[19] at reduceByKey at <timed exec>:1 []\n",
            "    |  ../../Data/Moby-Dick.txt MapPartitionsRDD[1] at textFile at NativeMethodAccessorImpl.java:0 []\n",
            "    |  ../../Data/Moby-Dick.txt HadoopRDD[0] at textFile at NativeMethodAccessorImpl.java:0 []\n",
            "\n",
            "sorted_counts:\n",
            "(2) PythonRDD[31] at RDD at PythonRDD.scala:48 []\n",
            " |  MapPartitionsRDD[29] at mapPartitions at PythonRDD.scala:122 []\n",
            " |  ShuffledRDD[28] at partitionBy at NativeMethodAccessorImpl.java:0 []\n",
            " +-(2) PairwiseRDD[27] at sortByKey at <timed exec>:2 []\n",
            "    |  PythonRDD[26] at sortByKey at <timed exec>:2 []\n",
            "    |  MapPartitionsRDD[22] at mapPartitions at PythonRDD.scala:122 []\n",
            "    |  ShuffledRDD[21] at partitionBy at NativeMethodAccessorImpl.java:0 []\n",
            "    +-(2) PairwiseRDD[20] at reduceByKey at <timed exec>:1 []\n",
            "       |  PythonRDD[19] at reduceByKey at <timed exec>:1 []\n",
            "       |  ../../Data/Moby-Dick.txt MapPartitionsRDD[1] at textFile at NativeMethodAccessorImpl.java:0 []\n",
            "       |  ../../Data/Moby-Dick.txt HadoopRDD[0] at textFile at NativeMethodAccessorImpl.java:0 []\n"
          ],
          "name": "stdout"
        }
      ]
    },
    {
      "cell_type": "markdown",
      "metadata": {
        "id": "6WMshkTQKah8",
        "colab_type": "text"
      },
      "source": [
        "sorted_counts:\n",
        "\n",
        "| Execution plan   | RDD |\n",
        "| :---------------------------------------------------------------- | :------------: |\n",
        "|`(2)_PythonRDD[20] at RDD at PythonRDD.scala:48 []`| **sorted_counts** |\n",
        "|`_/__MapPartitionsRDD[19] at mapPartitions at PythonRDD.scala:436 []`| **---\"---** |\n",
        "|`_/__ShuffledRDD[18] at partitionBy at NativeMethodAccessorImpl.java:0 `| **---\"---** |\n",
        "|`_+-(2)_PairwiseRDD[17] at sortByKey at <timed exec>:2 []`| **---\"---** |\n",
        "|`____/__PythonRDD[16] at sortByKey at <timed exec>:2 []`| ** counts, reverse_counts** |\n",
        "|`____/__MapPartitionsRDD[13] at mapPartitions at PythonRDD.scala:436 []`| **---\"---** |\n",
        "|`____/__ShuffledRDD[12] at partitionBy at NativeMethodAccessorImpl.java`| **---\"---** |\n",
        "|`____+-(2)_PairwiseRDD[11] at reduceByKey at <timed exec>:1 []`| **---\"---** |\n",
        "|`_______/__PythonRDD[10] at reduceByKey at <timed exec>:1 []`| **word_pairs** |\n",
        "|`_______/__../../Data/Moby-Dick.txt MapPartitionsRDD[1] at textFile at `| **---\"---** |\n",
        "|`_______/__../../Data/Moby-Dick.txt HadoopRDD[0] at textFile at NativeM`| **---\"---** |"
      ]
    },
    {
      "cell_type": "markdown",
      "metadata": {
        "id": "QWw14XI9Kah8",
        "colab_type": "text"
      },
      "source": [
        "### **Step 4** Take the top 5 words"
      ]
    },
    {
      "cell_type": "code",
      "metadata": {
        "id": "Y1On3z4_Kah9",
        "colab_type": "code",
        "colab": {},
        "outputId": "ff838c06-b4c6-45cc-962e-4b4cd62b37a1"
      },
      "source": [
        "%%time\n",
        "D=sorted_counts.take(5)\n",
        "print('most common words\\n'+'\\n'.join(['%d:\\t%s'%c for c in D]))"
      ],
      "execution_count": 0,
      "outputs": [
        {
          "output_type": "stream",
          "text": [
            "most common words\n",
            "13766:\tthe\n",
            "6587:\tof\n",
            "5951:\tand\n",
            "4533:\ta\n",
            "4510:\tto\n",
            "CPU times: user 10 ms, sys: 0 ns, total: 10 ms\n",
            "Wall time: 398 ms\n"
          ],
          "name": "stdout"
        }
      ]
    },
    {
      "cell_type": "markdown",
      "metadata": {
        "id": "Q3b0FVi1Kah_",
        "colab_type": "text"
      },
      "source": [
        "## Summary\n",
        "We showed two ways for finding the most common words:\n",
        "1. Collecting and sorting at the head node. -- Does not scale.\n",
        "2. Using RDDs to the end.\n",
        "\n",
        "See you next time!"
      ]
    }
  ]
}