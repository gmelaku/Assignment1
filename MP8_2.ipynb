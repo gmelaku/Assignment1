{
  "nbformat": 4,
  "nbformat_minor": 0,
  "metadata": {
    "name": "MP8-2",
    "notebookId": 400873226981,
    "colab": {
      "name": "MP8-2.ipynb",
      "provenance": [],
      "include_colab_link": true
    }
  },
  "cells": [
    {
      "cell_type": "markdown",
      "metadata": {
        "id": "view-in-github",
        "colab_type": "text"
      },
      "source": [
        "<a href=\"https://colab.research.google.com/github/gmelaku/Assignment1/blob/master/MP8_2.ipynb\" target=\"_parent\"><img src=\"https://colab.research.google.com/assets/colab-badge.svg\" alt=\"Open In Colab\"/></a>"
      ]
    },
    {
      "cell_type": "markdown",
      "metadata": {
        "id": "s_noPDvzmyeZ",
        "colab_type": "text"
      },
      "source": [
        "### Gebremedhin Melaku \n",
        "(reference from Object rocket)"
      ]
    },
    {
      "cell_type": "markdown",
      "metadata": {
        "id": "3ps_VWy4myea",
        "colab_type": "text"
      },
      "source": [
        "# MP8-2\n",
        "\n",
        "Using the Databricks MongoDB Connector. Referring to MP6, create your own\n",
        "MongoDB collection and stream your word count to it. Print the full dictionary for\n",
        "Frankenstein to mp8-2.txt."
      ]
    },
    {
      "cell_type": "markdown",
      "metadata": {
        "id": "yJNWySYtmyeb",
        "colab_type": "text"
      },
      "source": [
        "## Prerequisites\n",
        "It’s important to review the list of system requirements needed for this tutorial before we jump into the Python code. There are a few key prerequisites to keep in mind:\n",
        "\n",
        "First, the MongoDB client needs to be installed on the server. You can use the --version command in a terminal to see if it’s installed:"
      ]
    },
    {
      "cell_type": "markdown",
      "metadata": {
        "id": "DZ1Cl2ipmyeb",
        "colab_type": "text"
      },
      "source": [
        "## Install pymongo"
      ]
    },
    {
      "cell_type": "code",
      "metadata": {
        "id": "Zmoqo6lfmyec",
        "colab_type": "code",
        "colab": {},
        "outputId": "60b9bef1-c03c-4971-87b3-a23546c1f93c"
      },
      "source": [
        "!pip install pymongo"
      ],
      "execution_count": 0,
      "outputs": [
        {
          "output_type": "display_data",
          "data": {
            "text/html": [
              "<style scoped>\n",
              "  .ansiout {\n",
              "    display: block;\n",
              "    unicode-bidi: embed;\n",
              "    white-space: pre-wrap;\n",
              "    word-wrap: break-word;\n",
              "    word-break: break-all;\n",
              "    font-family: \"Source Code Pro\", \"Menlo\", monospace;;\n",
              "    font-size: 13px;\n",
              "    color: #555;\n",
              "    margin-left: 4px;\n",
              "    line-height: 19px;\n",
              "  }\n",
              "</style>\n",
              "<div class=\"ansiout\"></div>"
            ]
          },
          "metadata": {
            "tags": []
          }
        }
      ]
    },
    {
      "cell_type": "markdown",
      "metadata": {
        "id": "CA057YFUmyef",
        "colab_type": "text"
      },
      "source": [
        "## Connect to the MongoDB Server using the MongoClient class in Python\n",
        "Now that we’ve reviewed the prerequisites, we’re ready to focus on the code. First, we’ll import the MongoClient class and create a new client instance of the driver:"
      ]
    },
    {
      "cell_type": "code",
      "metadata": {
        "id": "gotdAfssmyef",
        "colab_type": "code",
        "colab": {},
        "outputId": "2a3da2cd-5cde-4060-8338-4b6470fce2c6"
      },
      "source": [
        "from pymongo import MongoClient\n",
        "mongo_client = MongoClient()"
      ],
      "execution_count": 0,
      "outputs": [
        {
          "output_type": "display_data",
          "data": {
            "text/html": [
              "<style scoped>\n",
              "  .ansiout {\n",
              "    display: block;\n",
              "    unicode-bidi: embed;\n",
              "    white-space: pre-wrap;\n",
              "    word-wrap: break-word;\n",
              "    word-break: break-all;\n",
              "    font-family: \"Source Code Pro\", \"Menlo\", monospace;;\n",
              "    font-size: 13px;\n",
              "    color: #555;\n",
              "    margin-left: 4px;\n",
              "    line-height: 19px;\n",
              "  }\n",
              "</style>\n",
              "<div class=\"ansiout\"></div>"
            ]
          },
          "metadata": {
            "tags": []
          }
        }
      ]
    },
    {
      "cell_type": "markdown",
      "metadata": {
        "id": "3ok58qRZmyeh",
        "colab_type": "text"
      },
      "source": [
        "### Access a MongoDB database and collection using the Python client instance\n",
        "\n",
        "The MongoDB API doesn’t raise any kind of Python AttributeError if the database or collection you specify doesn’t exist.\n",
        "\n",
        "If either the database or the collection do not exist, they will be implicitly created at the time of an API call. You can verify this in the MongoDB shell.\n",
        "\n",
        "Access a MongoDB database using the PyMongo client instance\n",
        "You can access the databases on the MongoDB server as attributes of the client object itself. In the following example, we access the database attribute some_database:"
      ]
    },
    {
      "cell_type": "code",
      "metadata": {
        "id": "x_X4zg08myei",
        "colab_type": "code",
        "colab": {},
        "outputId": "be4e65b3-edd6-434b-ac0a-eba0df0c4e87"
      },
      "source": [
        "db = mongo_client.some_database"
      ],
      "execution_count": 0,
      "outputs": [
        {
          "output_type": "display_data",
          "data": {
            "text/html": [
              "<style scoped>\n",
              "  .ansiout {\n",
              "    display: block;\n",
              "    unicode-bidi: embed;\n",
              "    white-space: pre-wrap;\n",
              "    word-wrap: break-word;\n",
              "    word-break: break-all;\n",
              "    font-family: \"Source Code Pro\", \"Menlo\", monospace;;\n",
              "    font-size: 13px;\n",
              "    color: #555;\n",
              "    margin-left: 4px;\n",
              "    line-height: 19px;\n",
              "  }\n",
              "</style>\n",
              "<div class=\"ansiout\"></div>"
            ]
          },
          "metadata": {
            "tags": []
          }
        }
      ]
    },
    {
      "cell_type": "markdown",
      "metadata": {
        "id": "bzii-3X9myek",
        "colab_type": "text"
      },
      "source": [
        "### Access the Collection attribute of the MongoDB database instance\n",
        "Let’s create a new collection object from the MongoDB database instance:"
      ]
    },
    {
      "cell_type": "code",
      "metadata": {
        "id": "xHM3ZzyWmyel",
        "colab_type": "code",
        "colab": {},
        "outputId": "02b5ffe1-ec52-469f-8b95-7bc09725b467"
      },
      "source": [
        "col = db.some_collection"
      ],
      "execution_count": 0,
      "outputs": [
        {
          "output_type": "display_data",
          "data": {
            "text/html": [
              "<style scoped>\n",
              "  .ansiout {\n",
              "    display: block;\n",
              "    unicode-bidi: embed;\n",
              "    white-space: pre-wrap;\n",
              "    word-wrap: break-word;\n",
              "    word-break: break-all;\n",
              "    font-family: \"Source Code Pro\", \"Menlo\", monospace;;\n",
              "    font-size: 13px;\n",
              "    color: #555;\n",
              "    margin-left: 4px;\n",
              "    line-height: 19px;\n",
              "  }\n",
              "</style>\n",
              "<div class=\"ansiout\"></div>"
            ]
          },
          "metadata": {
            "tags": []
          }
        }
      ]
    },
    {
      "cell_type": "markdown",
      "metadata": {
        "id": "2VkX1fEwmyen",
        "colab_type": "text"
      },
      "source": [
        "## Use a Python iterator to access all of a MongoDB collection’s documents\n",
        "Although a Python iterator isn’t the most efficient way to parse MongoDB documents, it’s a handy way to access documents during development. Here, we use a basic for loop to iterate the MongoDB documents:"
      ]
    },
    {
      "cell_type": "code",
      "metadata": {
        "id": "oELMXKMSmyen",
        "colab_type": "code",
        "colab": {},
        "outputId": "2084fe3b-0d6d-4ae7-f5ab-fb43ca478c62"
      },
      "source": [
        "print (\"/FileStore/tables/84_0-5b1ef.txt\")\n",
        "for doc in col.find():\n",
        "  print (doc)"
      ],
      "execution_count": 0,
      "outputs": [
        {
          "output_type": "display_data",
          "data": {
            "text/html": [
              "<style scoped>\n",
              "  .ansiout {\n",
              "    display: block;\n",
              "    unicode-bidi: embed;\n",
              "    white-space: pre-wrap;\n",
              "    word-wrap: break-word;\n",
              "    word-break: break-all;\n",
              "    font-family: \"Source Code Pro\", \"Menlo\", monospace;;\n",
              "    font-size: 13px;\n",
              "    color: #555;\n",
              "    margin-left: 4px;\n",
              "    line-height: 19px;\n",
              "  }\n",
              "</style>\n",
              "<div class=\"ansiout\"><span class=\"ansi-red-fg\">---------------------------------------------------------------------------</span>\n",
              "<span class=\"ansi-red-fg\">ServerSelectionTimeoutError</span>               Traceback (most recent call last)\n",
              "<span class=\"ansi-green-fg\">&lt;command-400873226987&gt;</span> in <span class=\"ansi-cyan-fg\">&lt;module&gt;</span>\n",
              "<span class=\"ansi-green-intense-fg ansi-bold\">      1</span> print <span class=\"ansi-blue-fg\">(</span><span class=\"ansi-blue-fg\">&#34;/FileStore/tables/84_0-5b1ef.txt&#34;</span><span class=\"ansi-blue-fg\">)</span>\n",
              "<span class=\"ansi-green-fg\">----&gt; 2</span><span class=\"ansi-red-fg\"> </span><span class=\"ansi-green-fg\">for</span> doc <span class=\"ansi-green-fg\">in</span> col<span class=\"ansi-blue-fg\">.</span>find<span class=\"ansi-blue-fg\">(</span><span class=\"ansi-blue-fg\">)</span><span class=\"ansi-blue-fg\">:</span>\n",
              "<span class=\"ansi-green-intense-fg ansi-bold\">      3</span>   print <span class=\"ansi-blue-fg\">(</span>doc<span class=\"ansi-blue-fg\">)</span>\n",
              "\n",
              "<span class=\"ansi-green-fg\">/databricks/python/lib/python3.7/site-packages/pymongo/cursor.py</span> in <span class=\"ansi-cyan-fg\">next</span><span class=\"ansi-blue-fg\">(self)</span>\n",
              "<span class=\"ansi-green-intense-fg ansi-bold\">   1154</span>         <span class=\"ansi-green-fg\">if</span> self<span class=\"ansi-blue-fg\">.</span>__empty<span class=\"ansi-blue-fg\">:</span>\n",
              "<span class=\"ansi-green-intense-fg ansi-bold\">   1155</span>             <span class=\"ansi-green-fg\">raise</span> StopIteration\n",
              "<span class=\"ansi-green-fg\">-&gt; 1156</span><span class=\"ansi-red-fg\">         </span><span class=\"ansi-green-fg\">if</span> len<span class=\"ansi-blue-fg\">(</span>self<span class=\"ansi-blue-fg\">.</span>__data<span class=\"ansi-blue-fg\">)</span> <span class=\"ansi-green-fg\">or</span> self<span class=\"ansi-blue-fg\">.</span>_refresh<span class=\"ansi-blue-fg\">(</span><span class=\"ansi-blue-fg\">)</span><span class=\"ansi-blue-fg\">:</span>\n",
              "<span class=\"ansi-green-intense-fg ansi-bold\">   1157</span>             <span class=\"ansi-green-fg\">if</span> self<span class=\"ansi-blue-fg\">.</span>__manipulate<span class=\"ansi-blue-fg\">:</span>\n",
              "<span class=\"ansi-green-intense-fg ansi-bold\">   1158</span>                 _db <span class=\"ansi-blue-fg\">=</span> self<span class=\"ansi-blue-fg\">.</span>__collection<span class=\"ansi-blue-fg\">.</span>database\n",
              "\n",
              "<span class=\"ansi-green-fg\">/databricks/python/lib/python3.7/site-packages/pymongo/cursor.py</span> in <span class=\"ansi-cyan-fg\">_refresh</span><span class=\"ansi-blue-fg\">(self)</span>\n",
              "<span class=\"ansi-green-intense-fg ansi-bold\">   1048</span> \n",
              "<span class=\"ansi-green-intense-fg ansi-bold\">   1049</span>         <span class=\"ansi-green-fg\">if</span> <span class=\"ansi-green-fg\">not</span> self<span class=\"ansi-blue-fg\">.</span>__session<span class=\"ansi-blue-fg\">:</span>\n",
              "<span class=\"ansi-green-fg\">-&gt; 1050</span><span class=\"ansi-red-fg\">             </span>self<span class=\"ansi-blue-fg\">.</span>__session <span class=\"ansi-blue-fg\">=</span> self<span class=\"ansi-blue-fg\">.</span>__collection<span class=\"ansi-blue-fg\">.</span>database<span class=\"ansi-blue-fg\">.</span>client<span class=\"ansi-blue-fg\">.</span>_ensure_session<span class=\"ansi-blue-fg\">(</span><span class=\"ansi-blue-fg\">)</span>\n",
              "<span class=\"ansi-green-intense-fg ansi-bold\">   1051</span> \n",
              "<span class=\"ansi-green-intense-fg ansi-bold\">   1052</span>         <span class=\"ansi-green-fg\">if</span> self<span class=\"ansi-blue-fg\">.</span>__id <span class=\"ansi-green-fg\">is</span> <span class=\"ansi-green-fg\">None</span><span class=\"ansi-blue-fg\">:</span>  <span class=\"ansi-red-fg\"># Query</span>\n",
              "\n",
              "<span class=\"ansi-green-fg\">/databricks/python/lib/python3.7/site-packages/pymongo/mongo_client.py</span> in <span class=\"ansi-cyan-fg\">_ensure_session</span><span class=\"ansi-blue-fg\">(self, session)</span>\n",
              "<span class=\"ansi-green-intense-fg ansi-bold\">   1808</span>             <span class=\"ansi-red-fg\"># Don&#39;t make implicit sessions causally consistent. Applications</span>\n",
              "<span class=\"ansi-green-intense-fg ansi-bold\">   1809</span>             <span class=\"ansi-red-fg\"># should always opt-in.</span>\n",
              "<span class=\"ansi-green-fg\">-&gt; 1810</span><span class=\"ansi-red-fg\">             </span><span class=\"ansi-green-fg\">return</span> self<span class=\"ansi-blue-fg\">.</span>__start_session<span class=\"ansi-blue-fg\">(</span><span class=\"ansi-green-fg\">True</span><span class=\"ansi-blue-fg\">,</span> causal_consistency<span class=\"ansi-blue-fg\">=</span><span class=\"ansi-green-fg\">False</span><span class=\"ansi-blue-fg\">)</span>\n",
              "<span class=\"ansi-green-intense-fg ansi-bold\">   1811</span>         <span class=\"ansi-green-fg\">except</span> <span class=\"ansi-blue-fg\">(</span>ConfigurationError<span class=\"ansi-blue-fg\">,</span> InvalidOperation<span class=\"ansi-blue-fg\">)</span><span class=\"ansi-blue-fg\">:</span>\n",
              "<span class=\"ansi-green-intense-fg ansi-bold\">   1812</span>             <span class=\"ansi-red-fg\"># Sessions not supported, or multiple users authenticated.</span>\n",
              "\n",
              "<span class=\"ansi-green-fg\">/databricks/python/lib/python3.7/site-packages/pymongo/mongo_client.py</span> in <span class=\"ansi-cyan-fg\">__start_session</span><span class=\"ansi-blue-fg\">(self, implicit, **kwargs)</span>\n",
              "<span class=\"ansi-green-intense-fg ansi-bold\">   1761</span> \n",
              "<span class=\"ansi-green-intense-fg ansi-bold\">   1762</span>         <span class=\"ansi-red-fg\"># Raises ConfigurationError if sessions are not supported.</span>\n",
              "<span class=\"ansi-green-fg\">-&gt; 1763</span><span class=\"ansi-red-fg\">         </span>server_session <span class=\"ansi-blue-fg\">=</span> self<span class=\"ansi-blue-fg\">.</span>_get_server_session<span class=\"ansi-blue-fg\">(</span><span class=\"ansi-blue-fg\">)</span>\n",
              "<span class=\"ansi-green-intense-fg ansi-bold\">   1764</span>         opts <span class=\"ansi-blue-fg\">=</span> client_session<span class=\"ansi-blue-fg\">.</span>SessionOptions<span class=\"ansi-blue-fg\">(</span><span class=\"ansi-blue-fg\">**</span>kwargs<span class=\"ansi-blue-fg\">)</span>\n",
              "<span class=\"ansi-green-intense-fg ansi-bold\">   1765</span>         return client_session.ClientSession(\n",
              "\n",
              "<span class=\"ansi-green-fg\">/databricks/python/lib/python3.7/site-packages/pymongo/mongo_client.py</span> in <span class=\"ansi-cyan-fg\">_get_server_session</span><span class=\"ansi-blue-fg\">(self)</span>\n",
              "<span class=\"ansi-green-intense-fg ansi-bold\">   1794</span>     <span class=\"ansi-green-fg\">def</span> _get_server_session<span class=\"ansi-blue-fg\">(</span>self<span class=\"ansi-blue-fg\">)</span><span class=\"ansi-blue-fg\">:</span>\n",
              "<span class=\"ansi-green-intense-fg ansi-bold\">   1795</span>         <span class=\"ansi-blue-fg\">&#34;&#34;&#34;Internal: start or resume a _ServerSession.&#34;&#34;&#34;</span>\n",
              "<span class=\"ansi-green-fg\">-&gt; 1796</span><span class=\"ansi-red-fg\">         </span><span class=\"ansi-green-fg\">return</span> self<span class=\"ansi-blue-fg\">.</span>_topology<span class=\"ansi-blue-fg\">.</span>get_server_session<span class=\"ansi-blue-fg\">(</span><span class=\"ansi-blue-fg\">)</span>\n",
              "<span class=\"ansi-green-intense-fg ansi-bold\">   1797</span> \n",
              "<span class=\"ansi-green-intense-fg ansi-bold\">   1798</span>     <span class=\"ansi-green-fg\">def</span> _return_server_session<span class=\"ansi-blue-fg\">(</span>self<span class=\"ansi-blue-fg\">,</span> server_session<span class=\"ansi-blue-fg\">,</span> lock<span class=\"ansi-blue-fg\">)</span><span class=\"ansi-blue-fg\">:</span>\n",
              "\n",
              "<span class=\"ansi-green-fg\">/databricks/python/lib/python3.7/site-packages/pymongo/topology.py</span> in <span class=\"ansi-cyan-fg\">get_server_session</span><span class=\"ansi-blue-fg\">(self)</span>\n",
              "<span class=\"ansi-green-intense-fg ansi-bold\">    483</span>                             any_server_selector<span class=\"ansi-blue-fg\">,</span>\n",
              "<span class=\"ansi-green-intense-fg ansi-bold\">    484</span>                             self<span class=\"ansi-blue-fg\">.</span>_settings<span class=\"ansi-blue-fg\">.</span>server_selection_timeout<span class=\"ansi-blue-fg\">,</span>\n",
              "<span class=\"ansi-green-fg\">--&gt; 485</span><span class=\"ansi-red-fg\">                             None)\n",
              "</span><span class=\"ansi-green-intense-fg ansi-bold\">    486</span>                 <span class=\"ansi-green-fg\">elif</span> <span class=\"ansi-green-fg\">not</span> self<span class=\"ansi-blue-fg\">.</span>_description<span class=\"ansi-blue-fg\">.</span>readable_servers<span class=\"ansi-blue-fg\">:</span>\n",
              "<span class=\"ansi-green-intense-fg ansi-bold\">    487</span>                     self._select_servers_loop(\n",
              "\n",
              "<span class=\"ansi-green-fg\">/databricks/python/lib/python3.7/site-packages/pymongo/topology.py</span> in <span class=\"ansi-cyan-fg\">_select_servers_loop</span><span class=\"ansi-blue-fg\">(self, selector, timeout, address)</span>\n",
              "<span class=\"ansi-green-intense-fg ansi-bold\">    207</span>             <span class=\"ansi-green-fg\">if</span> timeout <span class=\"ansi-blue-fg\">==</span> <span class=\"ansi-cyan-fg\">0</span> <span class=\"ansi-green-fg\">or</span> now <span class=\"ansi-blue-fg\">&gt;</span> end_time<span class=\"ansi-blue-fg\">:</span>\n",
              "<span class=\"ansi-green-intense-fg ansi-bold\">    208</span>                 raise ServerSelectionTimeoutError(\n",
              "<span class=\"ansi-green-fg\">--&gt; 209</span><span class=\"ansi-red-fg\">                     self._error_message(selector))\n",
              "</span><span class=\"ansi-green-intense-fg ansi-bold\">    210</span> \n",
              "<span class=\"ansi-green-intense-fg ansi-bold\">    211</span>             self<span class=\"ansi-blue-fg\">.</span>_ensure_opened<span class=\"ansi-blue-fg\">(</span><span class=\"ansi-blue-fg\">)</span>\n",
              "\n",
              "<span class=\"ansi-red-fg\">ServerSelectionTimeoutError</span>: localhost:27017: [Errno 111] Connection refused</div>"
            ]
          },
          "metadata": {
            "tags": []
          }
        }
      ]
    }
  ]
}