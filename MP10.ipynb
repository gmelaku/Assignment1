{
  "nbformat": 4,
  "nbformat_minor": 0,
  "metadata": {
    "colab": {
      "name": "MP10.ipynb",
      "provenance": [],
      "collapsed_sections": [],
      "authorship_tag": "ABX9TyMqzefD1vlYbhc3wOT4JjhT",
      "include_colab_link": true
    },
    "kernelspec": {
      "name": "python3",
      "display_name": "Python 3"
    }
  },
  "cells": [
    {
      "cell_type": "markdown",
      "metadata": {
        "id": "view-in-github",
        "colab_type": "text"
      },
      "source": [
        "<a href=\"https://colab.research.google.com/github/gmelaku/Assignment1/blob/master/MP10.ipynb\" target=\"_parent\"><img src=\"https://colab.research.google.com/assets/colab-badge.svg\" alt=\"Open In Colab\"/></a>"
      ]
    },
    {
      "cell_type": "markdown",
      "metadata": {
        "id": "tUmMF1wokSHp",
        "colab_type": "text"
      },
      "source": [
        "![image.png](data:image/png;base64,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)"
      ]
    },
    {
      "cell_type": "markdown",
      "metadata": {
        "id": "Ka26UFbIkaec",
        "colab_type": "text"
      },
      "source": [
        "# 2. Setting up a search box"
      ]
    },
    {
      "cell_type": "markdown",
      "metadata": {
        "id": "MzJQTxpnknVl",
        "colab_type": "text"
      },
      "source": [
        "![image.png](data:image/png;base64,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)"
      ]
    },
    {
      "cell_type": "markdown",
      "metadata": {
        "id": "0MipktXjrJuM",
        "colab_type": "text"
      },
      "source": [
        "### 2.1 install pysolr"
      ]
    },
    {
      "cell_type": "code",
      "metadata": {
        "id": "fzTjB2bSi4u5",
        "colab_type": "code",
        "colab": {
          "base_uri": "https://localhost:8080/",
          "height": 272
        },
        "outputId": "cb04029c-aa2a-463b-fecc-171fcb7a3ac9"
      },
      "source": [
        "!pip install pysolr"
      ],
      "execution_count": 1,
      "outputs": [
        {
          "output_type": "stream",
          "text": [
            "Collecting pysolr\n",
            "\u001b[?25l  Downloading https://files.pythonhosted.org/packages/9c/c6/9f0b80f17747db12acbdf421a22acdad23c93eea7046181ae6ebdf427bfd/pysolr-3.9.0.tar.gz (55kB)\n",
            "\r\u001b[K     |█████▉                          | 10kB 16.6MB/s eta 0:00:01\r\u001b[K     |███████████▊                    | 20kB 2.1MB/s eta 0:00:01\r\u001b[K     |█████████████████▋              | 30kB 3.0MB/s eta 0:00:01\r\u001b[K     |███████████████████████▌        | 40kB 2.0MB/s eta 0:00:01\r\u001b[K     |█████████████████████████████▍  | 51kB 2.5MB/s eta 0:00:01\r\u001b[K     |████████████████████████████████| 61kB 2.2MB/s \n",
            "\u001b[?25hRequirement already satisfied: requests>=2.9.1 in /usr/local/lib/python3.6/dist-packages (from pysolr) (2.21.0)\n",
            "Requirement already satisfied: idna<2.9,>=2.5 in /usr/local/lib/python3.6/dist-packages (from requests>=2.9.1->pysolr) (2.8)\n",
            "Requirement already satisfied: certifi>=2017.4.17 in /usr/local/lib/python3.6/dist-packages (from requests>=2.9.1->pysolr) (2020.4.5.1)\n",
            "Requirement already satisfied: chardet<3.1.0,>=3.0.2 in /usr/local/lib/python3.6/dist-packages (from requests>=2.9.1->pysolr) (3.0.4)\n",
            "Requirement already satisfied: urllib3<1.25,>=1.21.1 in /usr/local/lib/python3.6/dist-packages (from requests>=2.9.1->pysolr) (1.24.3)\n",
            "Building wheels for collected packages: pysolr\n",
            "  Building wheel for pysolr (setup.py) ... \u001b[?25l\u001b[?25hdone\n",
            "  Created wheel for pysolr: filename=pysolr-3.9.0-py2.py3-none-any.whl size=19670 sha256=ecbeeb96894c9e8440b84bcd179297639b70931315ebb573b1ce4bd1273b1939\n",
            "  Stored in directory: /root/.cache/pip/wheels/e3/a3/bb/a73984d1ba1b89951b2b111a1d39a6e4827d559144670e3605\n",
            "Successfully built pysolr\n",
            "Installing collected packages: pysolr\n",
            "Successfully installed pysolr-3.9.0\n"
          ],
          "name": "stdout"
        }
      ]
    },
    {
      "cell_type": "markdown",
      "metadata": {
        "id": "VkGwZQYSraKr",
        "colab_type": "text"
      },
      "source": [
        "### 2.2 Install simplejson"
      ]
    },
    {
      "cell_type": "code",
      "metadata": {
        "id": "SCJW7tjgmEYO",
        "colab_type": "code",
        "colab": {}
      },
      "source": [
        "from urllib.request import *"
      ],
      "execution_count": 0,
      "outputs": []
    },
    {
      "cell_type": "code",
      "metadata": {
        "id": "vORz_lJyn921",
        "colab_type": "code",
        "colab": {
          "base_uri": "https://localhost:8080/",
          "height": 187
        },
        "outputId": "4d3c24d7-d728-4f39-8f8c-995505353bef"
      },
      "source": [
        "!pip install simplejson "
      ],
      "execution_count": 10,
      "outputs": [
        {
          "output_type": "stream",
          "text": [
            "Collecting simplejson\n",
            "\u001b[?25l  Downloading https://files.pythonhosted.org/packages/98/87/a7b98aa9256c8843f92878966dc3d8d914c14aad97e2c5ce4798d5743e07/simplejson-3.17.0.tar.gz (83kB)\n",
            "\r\u001b[K     |████                            | 10kB 17.7MB/s eta 0:00:01\r\u001b[K     |███████▉                        | 20kB 2.1MB/s eta 0:00:01\r\u001b[K     |███████████▉                    | 30kB 3.1MB/s eta 0:00:01\r\u001b[K     |███████████████▊                | 40kB 2.1MB/s eta 0:00:01\r\u001b[K     |███████████████████▊            | 51kB 2.5MB/s eta 0:00:01\r\u001b[K     |███████████████████████▋        | 61kB 3.0MB/s eta 0:00:01\r\u001b[K     |███████████████████████████▋    | 71kB 3.5MB/s eta 0:00:01\r\u001b[K     |███████████████████████████████▌| 81kB 4.0MB/s eta 0:00:01\r\u001b[K     |████████████████████████████████| 92kB 3.2MB/s \n",
            "\u001b[?25hBuilding wheels for collected packages: simplejson\n",
            "  Building wheel for simplejson (setup.py) ... \u001b[?25l\u001b[?25hdone\n",
            "  Created wheel for simplejson: filename=simplejson-3.17.0-cp36-cp36m-linux_x86_64.whl size=114200 sha256=e1b05173523ab6a2460bd4f8b890562df0b173c78a0004b6aae1394a3021a35d\n",
            "  Stored in directory: /root/.cache/pip/wheels/86/c0/83/dcd0339abb2640544bb8e0938aab2d069cef55e5647ce6e097\n",
            "Successfully built simplejson\n",
            "Installing collected packages: simplejson\n",
            "Successfully installed simplejson-3.17.0\n"
          ],
          "name": "stdout"
        }
      ]
    },
    {
      "cell_type": "markdown",
      "metadata": {
        "id": "pdZqiSpetbcL",
        "colab_type": "text"
      },
      "source": [
        "Example "
      ]
    },
    {
      "cell_type": "code",
      "metadata": {
        "id": "lIvaadoSnOWG",
        "colab_type": "code",
        "colab": {}
      },
      "source": [
        "from urllib.request import urlopen\n",
        "import urllib.parse\n",
        "import simplejson\n",
        "\n",
        "def gallery_items(current_query):\n",
        "\n",
        "    solr_tuples = [\n",
        "        # text in search box\n",
        "        ('q', \"mens shirt gap\"),\n",
        "        # how many products do I want to return\n",
        "        ('rows', current_query['rows_per_page']),\n",
        "        # offset for pagination\n",
        "        ('start', current_query['start_row'] * current_query['rows_per_page']),\n",
        "        # example of a default sort, \n",
        "        # for search phrase leave blank to allow \n",
        "        # for relevancy score sorting\n",
        "        ('sort', 'price asc, popularity desc'),\n",
        "        # which fields do I want returned\n",
        "        ('fl', 'product_title, price, code, image_file'),\n",
        "        # enable facets and facet.pivots\n",
        "        ('facet', 'on'),\n",
        "        # allow for unlimited amount of facets in results\n",
        "        ('facet.limit', '-1'),\n",
        "        # a facet has to have at least one \n",
        "        # product in it to be a valid facet\n",
        "        ('facet.mincount', '1'),\n",
        "        # regular facets\n",
        "        ('facet.fields', ['gender', 'style', 'material']),\n",
        "        # nested facets\n",
        "        ('facet.pivot', 'brand,collection'),\n",
        "        # edismax is Solr's multifield phrase parser\n",
        "        ('defType', 'edismax'),\n",
        "        # fields to be queried\n",
        "        # copyall: all facets of a product with basic stemming\n",
        "        # copyallphonetic: phonetic spelling of facets\n",
        "        ('qf', 'copyall copyallphonetic'),\n",
        "        # give me results that match most fields\n",
        "        # in qf [copyall, copyallphonetic]\n",
        "        ('tie', '1.0'),\n",
        "        # format response as JSON\n",
        "        ('wt', 'json')\n",
        "    ]\n",
        "\n",
        "    solr_url = 'http://localhost:<port>/solr/<core>/select?'\n",
        "    # enocde for URL format\n",
        "    encoded_solr_tuples = urllib.parse.urlencode(solr_tuples)\n",
        "    complete_url = solr_url + encoded_solr_tuples\n",
        "    connection = urlopen(complete_url)\n",
        "    raw_response = simplejson.load(connection)"
      ],
      "execution_count": 0,
      "outputs": []
    },
    {
      "cell_type": "markdown",
      "metadata": {
        "id": "UyNH6dT_tnVH",
        "colab_type": "text"
      },
      "source": [
        "### 2.3 url encode"
      ]
    },
    {
      "cell_type": "code",
      "metadata": {
        "id": "pc5KlgCto3QK",
        "colab_type": "code",
        "colab": {}
      },
      "source": [
        "def apply_facet_filters(self):\n",
        "        if self.there_are_facets():\n",
        "            for facet, facet_arr in self.facet_filter.items():\n",
        "                if len(facet_arr) > 0:\n",
        "                    new_facet_arr = []\n",
        "                    for a_facet in facet_arr:\n",
        "                        new_facet_arr.append(\"{0}: \\\"{1}\\\"\".format(facet, a_facet))\n",
        "                    self.solr_args.append(('fq', ' OR '.join(new_facet_arr)))"
      ],
      "execution_count": 0,
      "outputs": []
    },
    {
      "cell_type": "markdown",
      "metadata": {
        "id": "ozIdqZIQuJ9L",
        "colab_type": "text"
      },
      "source": [
        "### 2.4 setting the minimum number of products required"
      ]
    },
    {
      "cell_type": "code",
      "metadata": {
        "id": "2i6RTI2So7qQ",
        "colab_type": "code",
        "colab": {}
      },
      "source": [
        "import more_itertools as mit\n",
        "facets = {}\n",
        "\n",
        "for k,v in raw_response['facet_counts']['facet_fields'].items():\n",
        "    spec_list = [list(spec) for spec in mit.chunked(v, 2)]\n",
        "    spec_dict = {}\n",
        "    for spec in spec_list:\n",
        "        spec_dict[spec[0]] = spec[1]\n",
        "    facets[k] = spec_dict\n",
        "\n",
        "raw_response['facet_counts']['facet_fields'] = facets"
      ],
      "execution_count": 0,
      "outputs": []
    },
    {
      "cell_type": "markdown",
      "metadata": {
        "id": "dPhj03D9udds",
        "colab_type": "text"
      },
      "source": [
        "### 2.5 Schema modelling "
      ]
    },
    {
      "cell_type": "code",
      "metadata": {
        "id": "-gXqOELipfmB",
        "colab_type": "code",
        "colab": {}
      },
      "source": [
        "<fieldType name=\"facets\" class=\"solr.TextField\">\n",
        "        <analyzer>\n",
        "          <tokenizer class=\"solr.ClassicTokenizerFactory\"/>\n",
        "          <filter class=\"solr.LowerCaseFilterFactory\"/>\n",
        "          <filter class=\"solr.StopFilterFactory\"/>\n",
        "          <filter class=\"solr.ClassicFilterFactory\"/>\n",
        "          <filter class=\"solr.EnglishMinimalStemFilterFactory\"/>\n",
        "        </analyzer>\n",
        "      </fieldType>"
      ],
      "execution_count": 0,
      "outputs": []
    },
    {
      "cell_type": "markdown",
      "metadata": {
        "id": "LKrFA43uukFB",
        "colab_type": "text"
      },
      "source": [
        "### 2.6 Create copy fields "
      ]
    },
    {
      "cell_type": "code",
      "metadata": {
        "id": "-X47zEplp6xW",
        "colab_type": "code",
        "colab": {
          "base_uri": "https://localhost:8080/",
          "height": 34
        },
        "outputId": "d17a6dd5-38c4-4534-98b2-090e9b7daf65"
      },
      "source": [
        "{\n",
        "       \"add-copy-field\":{\n",
        "           \"source\":\"brand\",\n",
        "           \"dest\":\"copyall\"\n",
        "        }\n",
        "    }"
      ],
      "execution_count": 17,
      "outputs": [
        {
          "output_type": "execute_result",
          "data": {
            "text/plain": [
              "{'add-copy-field': {'dest': 'copyall', 'source': 'brand'}}"
            ]
          },
          "metadata": {
            "tags": []
          },
          "execution_count": 17
        }
      ]
    }
  ]
}