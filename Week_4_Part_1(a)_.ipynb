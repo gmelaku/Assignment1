{
  "nbformat": 4,
  "nbformat_minor": 0,
  "metadata": {
    "kernelspec": {
      "name": "python3",
      "display_name": "Python 3.6",
      "language": "python"
    },
    "language_info": {
      "name": "python",
      "version": "3.6.9",
      "mimetype": "text/x-python",
      "codemirror_mode": {
        "name": "ipython",
        "version": 3
      },
      "pygments_lexer": "ipython3",
      "nbconvert_exporter": "python",
      "file_extension": ".py"
    },
    "colab": {
      "name": "Week 4 Part 1(a) .ipynb",
      "provenance": [],
      "include_colab_link": true
    }
  },
  "cells": [
    {
      "cell_type": "markdown",
      "metadata": {
        "id": "view-in-github",
        "colab_type": "text"
      },
      "source": [
        "<a href=\"https://colab.research.google.com/github/gmelaku/Assignment1/blob/master/Week_4_Part_1(a)_.ipynb\" target=\"_parent\"><img src=\"https://colab.research.google.com/assets/colab-badge.svg\" alt=\"Open In Colab\"/></a>"
      ]
    },
    {
      "cell_type": "markdown",
      "metadata": {
        "collapsed": true,
        "id": "DUn-O8o01MSa",
        "colab_type": "text"
      },
      "source": [
        "# Title: Restaurant Recommender System in Chicago, IL"
      ]
    },
    {
      "cell_type": "markdown",
      "metadata": {
        "id": "7dYRYp0V1MSb",
        "colab_type": "text"
      },
      "source": [
        "## Week 4: Part 1(a)"
      ]
    },
    {
      "cell_type": "markdown",
      "metadata": {
        "id": "FJPIaONa1MSb",
        "colab_type": "text"
      },
      "source": [
        "### Introduction / Business problem:"
      ]
    },
    {
      "cell_type": "markdown",
      "metadata": {
        "id": "yI0nw7LW1MSc",
        "colab_type": "text"
      },
      "source": [
        "Chicago is one of the four largest cities in USA. It is architecturally beautiful with a total population of 2.8 million (as of 2017). The great lake Michigan bordering a large portion of Chicago is mesmerizing. Chicago is windy, and it is called the \"windy city\"\n",
        "\n",
        "Chicago is known with great pizzas among others. There are more than 8000 ethnically diverse restaurants in Chicago. It will be, therefore, advisable to have a recommendation system for someone visiting Chicago based on personal preferences. Asians, Indians, Chinese and Ethiopian Cuisine is all over the place.\n",
        "\n",
        "In cities like this with diverse restaurants, finding your favorite food with reasonable price is challenging ."
      ]
    },
    {
      "cell_type": "markdown",
      "metadata": {
        "id": "opc0ZKxI1MSc",
        "colab_type": "text"
      },
      "source": [
        "## Week 4: Part 1(b)"
      ]
    },
    {
      "cell_type": "markdown",
      "metadata": {
        "id": "1jRmDUTQ1MSd",
        "colab_type": "text"
      },
      "source": [
        "### Problem description:"
      ]
    },
    {
      "cell_type": "markdown",
      "metadata": {
        "id": "95QTgOI41MSd",
        "colab_type": "text"
      },
      "source": [
        "I was in Chicago for business in November of 2019. It was my first time that I set foot in that beautiful city. In my stay there, finding an appropriate restaurant was a big challenge. People like me that are picky would struggle finding a restaurant in big cities like Chicago. I don't eat seafoods. I prefer foods that are spicy. Therefore, Cuisines such as Indian, Thai and Ethiopian are my choices. However, finding a descent closer to my hotel was challenging. "
      ]
    },
    {
      "cell_type": "markdown",
      "metadata": {
        "id": "2v2_gTzD1MSe",
        "colab_type": "text"
      },
      "source": [
        "If I go back to Chicago, there should be a way to filter out restuarants based on\n",
        "1. The types of food they serve\n",
        "2. The restaurant which is closest to my hotel\n",
        "3. The restaurant that has descent \n",
        "4. Which of the restaurants are Ethiopian? Indian? or Thai?\n",
        "5. Which restaurant provides quality food with an affordable price?\n",
        "6. etc "
      ]
    },
    {
      "cell_type": "markdown",
      "metadata": {
        "id": "U7FCQm3F1MSe",
        "colab_type": "text"
      },
      "source": [
        "Being able to create an application that can filter out restaurants based on their Menu, price, the type of food they serve, ratings and affordability will make the life of visitors to cities like chicago very easy. There are people who just want a quality food at any price. Price could be detrimental for others. To ease finding restaurants in cities like Chicago, this recommender system is created. "
      ]
    },
    {
      "cell_type": "code",
      "metadata": {
        "id": "QZexDzfR1MSf",
        "colab_type": "code",
        "colab": {}
      },
      "source": [
        ""
      ],
      "execution_count": 0,
      "outputs": []
    }
  ]
}